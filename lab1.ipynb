{
 "cells": [
  {
   "cell_type": "code",
   "execution_count": 2,
   "metadata": {
    "collapsed": true
   },
   "outputs": [],
   "source": [
    "%matplotlib inline\n",
    "import matplotlib\n",
    "import numpy as np\n",
    "import matplotlib.pyplot as plt\n",
    "from collections import Counter, defaultdict"
   ]
  },
  {
   "cell_type": "markdown",
   "metadata": {},
   "source": [
    "# Lab 1: Text Corpora and Language Modelling\n",
    "\n",
    "This lab is meant to help you get familiar with some language data, and use this data to estimate N-gram language models\n",
    "\n",
    "First you will use the **Penn Treebank**, which is a collection of newspaper articles from the newspaper \n",
    "The Wall Street Journal. The idea is to examine the data and notice interesting properties. This will not take more than a few lines of code.\n",
    "\n",
    "Then you will use a corpus consisting of **TedX** talks. This you will use to estimate an **N-gram language model** for different orders of N, and use this this for some tasks.\n",
    "\n",
    "The datasets are on blackboard under course materials. Download the zip and make sure to put the files in the same directory as the notebook.\n",
    "\n",
    "### Rules\n",
    "* The lab exercises should be made in **groups of two people**.\n",
    "\n",
    "* The deadline is **Tuesday 7 nov 16:59**.\n",
    "\n",
    "* The assignment should submitted to **Blackboard** as `.ipynb`. Only **one submission per group**.\n",
    "\n",
    "* The **filename** should be `lab1_lastname1_lastname2.ipynb`, so for example `lab1_Jurafsky_Martin.ipynb`.\n",
    "\n",
    "* The notebook is graded on a scale of **0-10**. The number of points for each question is indicated in parantheses. \n",
    "\n",
    "* The questions marked **optional** are not graded; they are an additional challenge for those interested in going the extra mile. \n",
    "\n",
    "Notes on implementation:\n",
    "\n",
    "* You should **write your code and answers in this iPython Notebook** (see http://ipython.org/notebook.html for reference material). If you have problems, please contact your teaching assistant.\n",
    "\n",
    "* Use only **one cell for code** and **one cell for markdown** answers!    \n",
    "\n",
    "    * Put all code in the cell with the `# YOUR CODE HERE` comment.\n",
    "    \n",
    "    * For theoretical question, put your solution in the YOUR ANSWER HERE cell.\n",
    "    \n",
    "* Test your code and **make sure we can run your notebook**"
   ]
  },
  {
   "cell_type": "markdown",
   "metadata": {},
   "source": [
    "# 1. Penn treebank\n",
    "\n",
    "## Exercise 1.1 (40 points, 5 points per subquestion )\n",
    "\n",
    "You are provided with a corpus containing words with their Part-of-Speech tags (POS-tags for short). The format is\n",
    "**word|POS** (one sentence per line) and the file name is **sec02-22.gold.tagged**. This data is extracted from Sections 02-22 from the Penn Treebank: these sections are most commonly used for training statistical models like POS-taggers and parsers.\n",
    "\n",
    "**[Hint]** **Figure 10.1** in chapter 10 of Jurafsky and Martin (see [here](https://web.stanford.edu/~jurafsky/slp3/10.pdf)) holds a summary of the 45 POS-tags used in the Penn Treebank tagset together with their meaning and some examples. (If you are keen on learning more about the word-classes represented POS-tags and their definitions you can do a litle reading ahead for next week and already have a look at section 10.1 of the same chapter).\n",
    "\n",
    "**[Hint]** the Python library [collections](https://docs.python.org/2/library/collections.html) has an object called `Counter` which will come in handy for this exercise."
   ]
  },
  {
   "cell_type": "markdown",
   "metadata": {},
   "source": [
    " "
   ]
  },
  {
   "cell_type": "markdown",
   "metadata": {},
   "source": [
    "**(a)** How large is the corpus? (i.e. how **many tokens**). And what is the size of the **vocabulary** used in this corpus? \n",
    "\n",
    "Estimate the vocabulary size both by **lowercasing** all the words as well as by leaving the words in their **original orthography**. What is an advantage of lowercasing all the words in your corpus? What is a notable downside? **Give examples.**"
   ]
  },
  {
   "cell_type": "code",
   "execution_count": 4,
   "metadata": {},
   "outputs": [
    {
     "name": "stdout",
     "output_type": "stream",
     "text": [
      "Total number of tokens in corpus: 929552\n",
      "Vocabulary size: 44210\n",
      "Vocabulary size in lowercase: 39384\n"
     ]
    }
   ],
   "source": [
    "def basic_analysis(file_name):\n",
    "\n",
    "    file = open(file_name,\"r+\")\n",
    "\n",
    "    normal_text = file.read().split()\n",
    "\n",
    "    corpus, tags = [], []\n",
    "    for word in normal_text:\n",
    "        corpus.append(word.split('|')[0])\n",
    "        tags.append(word.split('|')[1])\n",
    "\n",
    "    vocab = Counter(corpus)\n",
    "    corpus_lowercase = [word.lower() for word in vocab]\n",
    "    vocab_lowercase = Counter(corpus_lowercase)\n",
    "\n",
    "    return normal_text, corpus, tags, vocab, vocab_lowercase\n",
    "\n",
    "normal_text, corpus, tags, vocab, vocab_lowercase = basic_analysis(\"sec02-21.gold.tagged\")\n",
    "print(\"Total number of tokens in corpus: \" + str(len(corpus)))\n",
    "print(\"Vocabulary size: \" + str(len(vocab)))\n",
    "print(\"Vocabulary size in lowercase: \" + str(len(vocab_lowercase)))"
   ]
  },
  {
   "cell_type": "markdown",
   "metadata": {},
   "source": [
    "**Q&A**: What is an advantage of lowercasing all the words in your corpus? What is a notable downside? Give examples.\n",
    "\n",
    "An **advantage** of words in lower case is that words that start a sentence (first letter in capital) are now counted as the same word. A **disadvantage** is that you can no longer distinguish between meaning of words. For instance, \"moon\" or \"Moon\" have different contextual meanings, while they are the same word. Another example of a disadvantage would be to lowercase the word \"Her\" in the film review of the movie \"Her\", as the movie name would be counted the same as the pronoun \"her\"."
   ]
  },
  {
   "cell_type": "markdown",
   "metadata": {},
   "source": [
    "------\n",
    "For the rest of this exercise you should use the **original orthography** of the data when answering the questions.\n",
    "\n",
    "------\n"
   ]
  },
  {
   "cell_type": "markdown",
   "metadata": {},
   "source": [
    "**(b)** Plot a graph of word frequency versus rank of a word, in this corpus. Does this corpus obey **Zipf’s law**?"
   ]
  },
  {
   "cell_type": "code",
   "execution_count": 12,
   "metadata": {
    "scrolled": true
   },
   "outputs": [
    {
     "data": {
      "image/png": "[encoded data removed]",
      "text/plain": [
       "<matplotlib.figure.Figure at 0x10fd6a080>"
      ]
     },
     "metadata": {},
     "output_type": "display_data"
    }
   ],
   "source": [
    "rank = np.linspace(0,len(list(vocab)),len(list(vocab)))\n",
    "occurrence = sorted(list(vocab.values()), reverse=True)\n",
    "\n",
    "plt.loglog(rank, occurrence)\n",
    "plt.xlabel(\"Rank\")\n",
    "plt.ylabel(\"Occurrence\")\n",
    "plt.show()"
   ]
  },
  {
   "cell_type": "markdown",
   "metadata": {},
   "source": [
    "**(c)** What are the **20 most common words** in the corpus and how often do they occur? What is the 50th most common word, the 100th and the 1000th and how often do they occur?"
   ]
  },
  {
   "cell_type": "code",
   "execution_count": 13,
   "metadata": {},
   "outputs": [
    {
     "name": "stdout",
     "output_type": "stream",
     "text": [
      "The 20 most common words are:\n",
      "[(',', 48310), ('the', 40839), ('.', 38798), ('of', 22782), ('to', 22056), ('a', 19171), ('and', 15906), ('in', 15085), (\"'s\", 9249), ('that', 7951), ('for', 7912), ('$', 7125), ('is', 6893), ('The', 6791), ('said', 5597), ('on', 5112), ('%', 4871), ('it', 4639), ('by', 4450), ('from', 4437)]\n",
      "The 50th most common word is: \"had\" with value: 1755\n",
      "The 100th most common word is: \"A\" with value: 860\n",
      "The 1000th most common word is: \"man\" with value: 109\n"
     ]
    }
   ],
   "source": [
    "print(\"The 20 most common words are:\\n\" + str(list(vocab.most_common(20))))\n",
    "print(\"The 50th most common word is: \\\"\" + str(vocab.most_common()[49][0]) + \"\\\" with value: \" + str(vocab.most_common()[49][1]))\n",
    "print(\"The 100th most common word is: \\\"\" + str(vocab.most_common()[99][0]) + \"\\\" with value: \" + str(vocab.most_common()[99][1]))\n",
    "print(\"The 1000th most common word is: \\\"\" + str(vocab.most_common()[999][0]) + \"\\\" with value: \" + str(vocab.most_common()[999][1]))\n"
   ]
  },
  {
   "cell_type": "markdown",
   "metadata": {},
   "source": [
    "**(d)** How many different Part-of-speech tags are present in the corpus?"
   ]
  },
  {
   "cell_type": "code",
   "execution_count": 14,
   "metadata": {
    "scrolled": true
   },
   "outputs": [
    {
     "name": "stdout",
     "output_type": "stream",
     "text": [
      "There are 48 different POS tags in the corpus\n"
     ]
    }
   ],
   "source": [
    "pos_only = []\n",
    "for word in normal_text:\n",
    "    pos_only.append(word.split('|')[1])\n",
    "    \n",
    "my_pos_vocab = Counter(pos_only)\n",
    "\n",
    "print(\"There are \" + str(len(my_pos_vocab)) + \" different POS tags in the corpus\")"
   ]
  },
  {
   "cell_type": "markdown",
   "metadata": {},
   "source": [
    "**(e)** Print a list of the **10 most commonly occurring POS tags** in the data. For each of these POS tags, what are the **3 most common words** that belong to that class?"
   ]
  },
  {
   "cell_type": "code",
   "execution_count": 15,
   "metadata": {},
   "outputs": [
    {
     "name": "stdout",
     "output_type": "stream",
     "text": [
      "The 10 most common POS tags are: [('NN', 132134), ('IN', 99413), ('NNP', 90711), ('DT', 82147), ('JJ', 59643), ('NNS', 59332), (',', 48314), ('.', 39252), ('CD', 36148), ('RB', 30232)]\n",
      "\n",
      "Three most common words for tag: \"NN\"\t are \t[('%|NN', 4866), ('company|NN', 2457), ('year|NN', 2220)]\n",
      "Three most common words for tag: \"IN\"\t are \t[('of|IN', 22778), ('in|IN', 14852), ('for|IN', 7907)]\n",
      "Three most common words for tag: \"NNP\"\t are \t[('Mr.|NNP', 4147), ('U.S.|NNP', 1577), ('Corp.|NNP', 1186)]\n",
      "Three most common words for tag: \"DT\"\t are \t[('the|DT', 40831), ('a|DT', 19151), ('The|DT', 6753)]\n",
      "Three most common words for tag: \"JJ\"\t are \t[('new|JJ', 1396), ('other|JJ', 1298), ('last|JJ', 990)]\n",
      "Three most common words for tag: \"NNS\"\t are \t[('years|NNS', 1164), ('shares|NNS', 1128), ('sales|NNS', 939)]\n",
      "Three most common words for tag: \",\"\t are \t[(',|,', 48310), ('an|,', 1), ('2|,', 1)]\n",
      "Three most common words for tag: \".\"\t are \t[('.|.', 38798), ('?|.', 392), ('!|.', 62)]\n",
      "Three most common words for tag: \"CD\"\t are \t[('million|CD', 4355), ('billion|CD', 1780), ('one|CD', 1203)]\n",
      "Three most common words for tag: \"RB\"\t are \t[(\"n't|RB\", 3211), ('also|RB', 1420), ('not|RB', 1287)]\n"
     ]
    }
   ],
   "source": [
    "print(\"The 10 most common POS tags are: \" + str(list(my_pos_vocab.most_common(10))) + \"\\n\")\n",
    "\n",
    "top_n_POS_list = my_pos_vocab.most_common(10)\n",
    "for POS in top_n_POS_list:\n",
    "    POS_list = []\n",
    "    for word in normal_text:\n",
    "        if word.split('|')[1] == str(POS[0]):\n",
    "            POS_list.append(word)\n",
    "    POS_list = Counter(POS_list)\n",
    "    print(\"Three most common words for tag: \\\"\" + str(POS[0]) + \"\\\"\\t are \\t\" + str(POS_list.most_common(3)))"
   ]
  },
  {
   "cell_type": "markdown",
   "metadata": {},
   "source": [
    "**(f)** A single word may have several POS-tags. For example, *record* can be a both a **noun** *(buy a record)* or a **verb** *(record a lecture)*. This make POS-tags extremely useful for **disambiguation**.\n",
    "\n",
    "What percentage of the words in the vocabulary is **ambiguous**? (i.e. have more than one POS tag?) What are the 10 most frequent combinations of POS tags in the case of ambitguity? Which words are **most ambiguous**? Give some of them."
   ]
  },
  {
   "cell_type": "code",
   "execution_count": 17,
   "metadata": {
    "scrolled": true
   },
   "outputs": [
    {
     "name": "stdout",
     "output_type": "stream",
     "text": [
      "5955\n",
      "Total number of ambiguous words: 5955\n",
      "Percentage of ambiguous words in vocabulary: 13.47%\n",
      "4 of the most ambiguous words:\n",
      "[('open', 7), ('down', 7), ('many', 7), ('set', 7)]\n"
     ]
    }
   ],
   "source": [
    "word_tags_dict = defaultdict(set)\n",
    "word_tags_list = list(zip(corpus, tags))\n",
    "\n",
    "for word, tag in word_tags_list:\n",
    "    word_tags_dict[word].add(tag)\n",
    "\n",
    "ambig_list, ambig_numb = {}, {}\n",
    "for word in list(word_tags_dict):\n",
    "    if len(word_tags_dict[word]) > 1:\n",
    "        ambig_list[word] = word_tags_dict[word]\n",
    "    ambig_numb[word] = len(word_tags_dict[word])\n",
    "\n",
    "print(len(ambig_list))\n",
    "    \n",
    "print(\"Total number of ambiguous words: \" + str((len(ambig_list))))\n",
    "print(\"Percentage of ambiguous words in vocabulary: \" + str(round(len(ambig_list)/len(vocab) * 100, 2)) + \"%\")\n",
    "\n",
    "print(\"4 of the most ambiguous words:\")\n",
    "ambig_numb = sorted(ambig_numb.items(), key=lambda x:x[1], reverse=True)\n",
    "print(ambig_numb[:4])"
   ]
  },
  {
   "cell_type": "markdown",
   "metadata": {},
   "source": [
    "**(g)**  Print some of these words with their multiple POS-tags. Do you **understand the ambiguity**? Use figure 10.1 mentioned above to interpret the POS-tags."
   ]
  },
  {
   "cell_type": "code",
   "execution_count": 18,
   "metadata": {},
   "outputs": [
    {
     "name": "stdout",
     "output_type": "stream",
     "text": [
      "\"Seven\" has tags: {'NNP', 'CD'}\n",
      "\"Supply\" has tags: {'NN', 'NNP'}\n",
      "\"Young\" has tags: {'NN', 'NNP', 'JJ'}\n",
      "\"Issues\" has tags: {'NNP', 'NNS', 'NNPS'}\n",
      "\"such\" has tags: {'PDT', 'JJ', 'NN'}\n"
     ]
    }
   ],
   "source": [
    "import random\n",
    "\n",
    "random.seed(5)\n",
    "\n",
    "for word in range(5):\n",
    "    pick = random.choice(list(ambig_list))\n",
    "    print(\"\\\"\" + str(pick) + \"\\\" has tags: \" + str(ambig_list[pick]))"
   ]
  },
  {
   "cell_type": "markdown",
   "metadata": {},
   "source": [
    "**(h)** Ambiguous words do not account for a great percentage of the vocabulary. Yet they are among the most commonly occuring words of the English language. What **percentage of the dataset is ambiguous**?"
   ]
  },
  {
   "cell_type": "code",
   "execution_count": 19,
   "metadata": {},
   "outputs": [
    {
     "name": "stdout",
     "output_type": "stream",
     "text": [
      "5955\n",
      "Total amount of ambiguous words in dataset: 511988\n",
      "Total percentage of ambiguous words in dataset: 55.079%\n"
     ]
    }
   ],
   "source": [
    "total_ambig_occurrences = 0\n",
    "\n",
    "print(len(list(ambig_list)))\n",
    "\n",
    "for word in list(ambig_list):\n",
    "    total_ambig_occurrences += vocab[word]\n",
    "    \n",
    "print(\"Total amount of ambiguous words in dataset: \" + str(total_ambig_occurrences))\n",
    "print(\"Total percentage of ambiguous words in dataset: \" + str(round(total_ambig_occurrences/len(corpus) * 100, 3)) + \"%\")\n"
   ]
  },
  {
   "cell_type": "markdown",
   "metadata": {},
   "source": [
    "## Exercise 1.2 (10 points, 5 per subquestion)"
   ]
  },
  {
   "cell_type": "markdown",
   "metadata": {},
   "source": [
    "You are also provided with another file called **sec00.gold.tagged**. \n",
    "Section 00 of the Penn Treebank is typically used as development data."
   ]
  },
  {
   "cell_type": "markdown",
   "metadata": {},
   "source": [
    "**(a)** How many **unseen words** are present in the development data (i.e., words that have not occurred in the training data)?"
   ]
  },
  {
   "cell_type": "code",
   "execution_count": 20,
   "metadata": {
    "scrolled": false
   },
   "outputs": [
    {
     "name": "stdout",
     "output_type": "stream",
     "text": [
      "The number of words that are not occurring in \"sec02-21.gold.tagged\": 1288\n"
     ]
    }
   ],
   "source": [
    "normal_text2, corpus2, tags2, vocab2, vocab_lowercase2 = basic_analysis(\"sec00.gold.tagged\")\n",
    "\n",
    "unseen_words = []\n",
    "for word in vocab2:\n",
    "    if word not in vocab:\n",
    "        unseen_words.append(word)\n",
    "\n",
    "print(\"The number of words that are not occurring in \\\"sec02-21.gold.tagged\\\": \" + str(len(unseen_words)))"
   ]
  },
  {
   "cell_type": "markdown",
   "metadata": {},
   "source": [
    "**(b)** What are the three **POS tag categories** that the most **unseen words** belong to?"
   ]
  },
  {
   "cell_type": "code",
   "execution_count": 21,
   "metadata": {
    "scrolled": true
   },
   "outputs": [
    {
     "name": "stdout",
     "output_type": "stream",
     "text": [
      "Top three POS tags most unseen words belong to: [('NNP', 815), ('JJ', 258), ('NN', 210)]\n"
     ]
    }
   ],
   "source": [
    "word_tags_list2 = list(zip(corpus2, tags2))\n",
    "\n",
    "unseen_tags = []\n",
    "for tup in word_tags_list2:\n",
    "    if tup[0] in unseen_words:\n",
    "        unseen_tags.append(tup[1])\n",
    "\n",
    "unseen_tags = Counter(unseen_tags)\n",
    "print(\"Top three POS tags most unseen words belong to: \" + str(unseen_tags.most_common(3)))"
   ]
  },
  {
   "cell_type": "markdown",
   "metadata": {},
   "source": [
    "# 2. Language Models\n",
    "\n",
    "This part of the lab will be covered in the Wednesday lecture. If you have prior exposure to NLP, go ahead and finish this part! If you don't, start anyway, and this part will be clear after the lecture. \n",
    "\n",
    "Reference **chapter 4** of J&M *Language Modeling with N-Grams*. \n",
    "\n",
    "----------\n",
    "\n",
    "Models that assign **probabilities** to **sequences of words** are called language **language\n",
    "modelels** or **LMs**. The simplest model that assigns probabilities to sentences and sequences of words is the **N-gram** model.\n",
    "\n",
    "Recall that an *N*-gram language model uses **conditional probabilities** of the form\n",
    "    \n",
    "$$P(w_k \\mid w_{k-N+1} \\dots w_{k-1})$$\n",
    "\n",
    "to **approximate** the full **joint probability**\n",
    "\n",
    "$$P(w_1 \\dots w_n)$$\n",
    "\n",
    "of a sequence of words $w_1 \\dots w_n$.\n",
    "\n",
    "The easiest way of obtaining estimates for the probabilities $P(w_k \\mid w_{k-N+1} \\dots w_{k-1})$ is to use the **maximum likelihood estimate** or **MLE**, a widely used statistical estimation method ([read more]((https://en.wikipedia.org/wiki/Maximum_likelihood_estimation)). You count and normalize:\n",
    "\n",
    "$$P_{MLE}(w_k \\mid w_{k-N+1} \\dots w_{k-1}) = \\frac{C(w_{k-N+1} \\dots w_{k-1} w_k)}{C(w_{k-N+1} \\dots w_{k-1})}.$$\n",
    "\n",
    "\n",
    "## Exercise 2.1 (25 points)\n",
    "\n",
    "**(a) ** Complete the function `train_ngram` so that you can train a count-based $N$-gram language model on the data found in `data/ted-train.txt` and train this for $N=2,3,4$. **15 points**\n",
    "\n",
    "**(b) ** Extend the function above so that it accepts a parameter `k` for optional add-$k$ smoothing. **10 points**\n",
    "\n",
    "**[Datastructure hint]** If you store the smoothed language in a naive manner (that is, to store *all* the numbers separately) your datastructure will get huge! If $V$ is the vocabulary then the smoothed bigram model assigns probabilities to $|V|^2$ entries. If $|V|$ is around 80k, the naive way requires you to store more than 64 billion floats. Yet almost all of these are actually just $P(w_n|w_{n-1}) = \\frac{k}{N + k|V|}$, with $k$ the value with which you smooth and $N=C(w_{n-1})$. Think about how you use this fact to make your model work in practice."
   ]
  },
  {
   "cell_type": "markdown",
   "metadata": {},
   "source": [
    "**[Python hint]** The `collections` library has another useful datastructure: the `defaultdict`. Some example uses:"
   ]
  },
  {
   "cell_type": "code",
   "execution_count": 12,
   "metadata": {},
   "outputs": [
    {
     "data": {
      "text/plain": [
       "0.0"
      ]
     },
     "execution_count": 12,
     "metadata": {},
     "output_type": "execute_result"
    }
   ],
   "source": [
    "from collections import defaultdict\n",
    "\n",
    "d = defaultdict(float)\n",
    "d[\"new key\"]"
   ]
  },
  {
   "cell_type": "markdown",
   "metadata": {},
   "source": [
    "Compare that to an ordinary dictionary:"
   ]
  },
  {
   "cell_type": "code",
   "execution_count": 13,
   "metadata": {},
   "outputs": [
    {
     "ename": "KeyError",
     "evalue": "'new key'",
     "output_type": "error",
     "traceback": [
      "\u001b[1;31m---------------------------------------------------------------------------\u001b[0m",
      "\u001b[1;31mKeyError\u001b[0m                                  Traceback (most recent call last)",
      "\u001b[1;32m<ipython-input-13-c19a7fd7bc46>\u001b[0m in \u001b[0;36m<module>\u001b[1;34m()\u001b[0m\n\u001b[0;32m      1\u001b[0m \u001b[0md\u001b[0m \u001b[1;33m=\u001b[0m \u001b[0mdict\u001b[0m\u001b[1;33m(\u001b[0m\u001b[1;33m)\u001b[0m\u001b[1;33m\u001b[0m\u001b[0m\n\u001b[1;32m----> 2\u001b[1;33m \u001b[0md\u001b[0m\u001b[1;33m[\u001b[0m\u001b[1;34m\"new key\"\u001b[0m\u001b[1;33m]\u001b[0m\u001b[1;33m\u001b[0m\u001b[0m\n\u001b[0m",
      "\u001b[1;31mKeyError\u001b[0m: 'new key'"
     ]
    }
   ],
   "source": [
    "d = dict()\n",
    "d[\"new key\"]"
   ]
  },
  {
   "cell_type": "markdown",
   "metadata": {},
   "source": [
    "Other datatypes as `default_factory`:"
   ]
  },
  {
   "cell_type": "code",
   "execution_count": 14,
   "metadata": {},
   "outputs": [
    {
     "data": {
      "text/plain": [
       "0"
      ]
     },
     "execution_count": 14,
     "metadata": {},
     "output_type": "execute_result"
    }
   ],
   "source": [
    "d = defaultdict(int)\n",
    "d[\"new key\"]"
   ]
  },
  {
   "cell_type": "code",
   "execution_count": 15,
   "metadata": {},
   "outputs": [
    {
     "data": {
      "text/plain": [
       "[]"
      ]
     },
     "execution_count": 15,
     "metadata": {},
     "output_type": "execute_result"
    }
   ],
   "source": [
    "d = defaultdict(list)\n",
    "d[\"new key\"]"
   ]
  },
  {
   "cell_type": "markdown",
   "metadata": {},
   "source": [
    "Converting an already existing `dict`:"
   ]
  },
  {
   "cell_type": "code",
   "execution_count": 16,
   "metadata": {},
   "outputs": [
    {
     "name": "stdout",
     "output_type": "stream",
     "text": [
      "value\n",
      "0.0\n"
     ]
    }
   ],
   "source": [
    "d1 = {k: \"value\" for k in range(1, 11)}\n",
    "d = defaultdict(float, d1) # convert it to a defaultdict\n",
    "print(d[5])\n",
    "print(d[100])"
   ]
  },
  {
   "cell_type": "markdown",
   "metadata": {},
   "source": [
    "This doesn't work:"
   ]
  },
  {
   "cell_type": "code",
   "execution_count": 17,
   "metadata": {},
   "outputs": [
    {
     "ename": "TypeError",
     "evalue": "first argument must be callable or None",
     "output_type": "error",
     "traceback": [
      "\u001b[1;31m---------------------------------------------------------------------------\u001b[0m",
      "\u001b[1;31mTypeError\u001b[0m                                 Traceback (most recent call last)",
      "\u001b[1;32m<ipython-input-17-89e9c9b71b5c>\u001b[0m in \u001b[0;36m<module>\u001b[1;34m()\u001b[0m\n\u001b[1;32m----> 1\u001b[1;33m \u001b[0md\u001b[0m \u001b[1;33m=\u001b[0m \u001b[0mdefaultdict\u001b[0m\u001b[1;33m(\u001b[0m\u001b[1;36m10\u001b[0m\u001b[1;33m)\u001b[0m\u001b[1;33m\u001b[0m\u001b[0m\n\u001b[0m",
      "\u001b[1;31mTypeError\u001b[0m: first argument must be callable or None"
     ]
    }
   ],
   "source": [
    "d = defaultdict(10)"
   ]
  },
  {
   "cell_type": "markdown",
   "metadata": {},
   "source": [
    "Use a `lambda` to make the number `10` `callable`\":"
   ]
  },
  {
   "cell_type": "code",
   "execution_count": 18,
   "metadata": {},
   "outputs": [
    {
     "name": "stdout",
     "output_type": "stream",
     "text": [
      "10\n",
      "10\n",
      "defaultdict(<function <lambda> at 0x000001D1BCA7F840>, {'Another new key': 10, 'new key': 10})\n"
     ]
    }
   ],
   "source": [
    "d = defaultdict(lambda: 10)\n",
    "#d[\"new key\"]\n",
    "print(d[\"new key\"])\n",
    "print(d[\"Another new key\"])\n",
    "print(d)"
   ]
  },
  {
   "cell_type": "code",
   "execution_count": 19,
   "metadata": {},
   "outputs": [
    {
     "name": "stdout",
     "output_type": "stream",
     "text": [
      "defaultdict(<function <lambda> at 0x000001D1BCA7F730>, {'new key': defaultdict(<class 'float'>, {}), 'new new key': defaultdict(<class 'float'>, {})})\n"
     ]
    }
   ],
   "source": [
    "d = defaultdict(lambda: defaultdict(float))\n",
    "d[\"new key\"]\n",
    "d[\"new new key\"]\n",
    "print(d)"
   ]
  },
  {
   "cell_type": "markdown",
   "metadata": {},
   "source": [
    "Clever use of a `defaultdict` can be the solution to the problem of data-storing in a smoothing $N$-gram pointed out above:\n",
    "    \n",
    "    ngram = defaultdict(lambda: k/(N+kV), ngram)"
   ]
  },
  {
   "cell_type": "markdown",
   "metadata": {},
   "source": [
    "The following function is given:"
   ]
  },
  {
   "cell_type": "code",
   "execution_count": 24,
   "metadata": {
    "collapsed": true
   },
   "outputs": [],
   "source": [
    "train_file = \"ted-train.txt\"\n",
    "\n",
    "def read(fname, max_lines=np.inf):\n",
    "    \"\"\"\n",
    "    Reads in the data in fname and returns it as\n",
    "    one long list of words. Also returns a vocabulary in\n",
    "    the form of a word2index and index2word dictionary.\n",
    "    \"\"\"\n",
    "    data = []\n",
    "    # w2i will automatically keep a counter to asign to new words\n",
    "    w2i = defaultdict(lambda: len(w2i))\n",
    "    i2w = dict()\n",
    "    start = \"<s>\"\n",
    "    end = \"</s>\"\n",
    "    \n",
    "    with open(fname, \"r\",encoding='utf8') as fh:\n",
    "        for k, line in enumerate(fh):\n",
    "            if k > max_lines:\n",
    "                break\n",
    "            words = line.strip().split()\n",
    "            # assign an index to each word\n",
    "            for w in words:\n",
    "                i2w[w2i[w]] = w # trick\n",
    "            \n",
    "            sent = [start] + words + [end]\n",
    "            data.append(sent)\n",
    "\n",
    "    return data, w2i, i2w"
   ]
  },
  {
   "cell_type": "code",
   "execution_count": 26,
   "metadata": {
    "collapsed": true
   },
   "outputs": [],
   "source": [
    "def train_ngram(data, N, k=0):\n",
    "    \"\"\"\n",
    "    Trains an n-gram language model with optional add-k smoothing\n",
    "    and additionaly returns the unigram model\n",
    "    \n",
    "    :param data: text-data as returned by read\n",
    "    :param N: (N>1) the order of the ngram e.g. N=2 gives a bigram\n",
    "    :param k: optional add-k smoothing\n",
    "    :returns: ngram and unigram\n",
    "    \"\"\"\n",
    "    \n",
    "    ### DO THE UNIGRAM FIRST\n",
    "    unpacked_data = [word for sent in data for word in sent]\n",
    "    unigram = defaultdict(float, Counter(unpacked_data)) # default prob is 0.0           \n",
    "    \n",
    "    total_num_words = sum(unigram.values())\n",
    "    \n",
    "    vocab_size = len(unigram)\n",
    "    \n",
    "    tups_of_size_N = list(zip(*[unpacked_data[i:] for i in range(N)]))\n",
    "    tups_of_size_N_1 = list(zip(*[unpacked_data[i:] for i in range(N-1)]))\n",
    "\n",
    "    count_each_tup = Counter(tups_of_size_N)\n",
    "    count_each_tup_N_1 = Counter(tups_of_size_N_1)\n",
    "\n",
    "    ngram = defaultdict(lambda: defaultdict(float))\n",
    "    \n",
    "    \n",
    "    for sent, freq in count_each_tup.items():\n",
    "        word = sent[-1]\n",
    "        hist = sent[:-1]\n",
    "        hist_freq = count_each_tup_N_1[sent[:-1]]\n",
    "        ngram[hist][word] = (freq + k)/(hist_freq + k * vocab_size)\n",
    "        # For smoothing, all other words are being given the same probability for each history entry.\n",
    "        # Therefore a single placeholder \"defaultProb\" is made.\n",
    "        if k > 0:\n",
    "            ngram[hist][\"#defaultProb$\"] = k / (hist_freq + k * (vocab_size -1))\n",
    "    \n",
    "    return ngram, unigram\n",
    "\n",
    "train_file = \"ted-train.txt\"\n",
    "data, w2i, i2w = read(train_file)\n",
    "bigram, unigram = train_ngram(data, N=2)\n",
    "bigram_smoothed, unigram_smoothed = train_ngram(data, N=2, k=1)\n"
   ]
  },
  {
   "cell_type": "code",
   "execution_count": 27,
   "metadata": {},
   "outputs": [
    {
     "name": "stdout",
     "output_type": "stream",
     "text": [
      "['<s>', 'Both', 'are', 'necessary', ',', 'but', 'it', 'can', 'be', 'too', 'much', 'of', 'a', 'good', 'thing', '.', '</s>']\n"
     ]
    }
   ],
   "source": [
    "print(data[2])"
   ]
  },
  {
   "cell_type": "markdown",
   "metadata": {},
   "source": [
    "## Exercise 2.2 (5 points)\n",
    "\n",
    "You can use an *N*-gram language model to **generate text**. The higher the order *N* the better your model will be able to catch the long-range dependecies that occur in actual sentences and the better your changes are at generating sensible text. But beware: **sparsity** of language data will quickly cause your model to reproduce entire lines from your training data; in such cases only one $w_k$ was observed for the histories $w_{k-N+1}\\dots w_{k-1}$ in the entire training-set.\n",
    "\n",
    "**Complete** the function `generate_sent`. It takes a language model `lm` and an order `N` and should generate a sentence by **sampling** from the language model.\n",
    "\n",
    "**[Hint]** You can use the method of [inverse transform sampling](https://en.wikipedia.org/wiki/Inverse_transform_sampling) to generate a sample from a **categorical distribution**, $p_1\\dots p_k$ such that $p_i \\geq 0$ and $\\sum_{i=1}^k p_i = 1$, as follows:"
   ]
  },
  {
   "cell_type": "code",
   "execution_count": 28,
   "metadata": {},
   "outputs": [
    {
     "name": "stdout",
     "output_type": "stream",
     "text": [
      "None\n",
      "Counter({2: 498, 1: 214, 3: 183, None: 105})\n"
     ]
    }
   ],
   "source": [
    "from random import random\n",
    "\n",
    "P = [0.2,0.5,0.2,0.1]\n",
    "\n",
    "def sample(P):\n",
    "    u = random() # uniformly random number between 0 and 1\n",
    "    p = 0\n",
    "    for i, p_i in enumerate(P):\n",
    "        if p > u: \n",
    "            return i # the first i s.t. p1 + ... + pi > u\n",
    "        p += p_i\n",
    "        \n",
    "print(sample(P))\n",
    "\n",
    "print(Counter([sample(P) for i in range(1000)])) # check to see if the law of large numbers is still true"
   ]
  },
  {
   "cell_type": "markdown",
   "metadata": {},
   "source": [
    "Inverse transform sampling in the words of Jurafsky and Martin:\n",
    "\n",
    "> Imagine all the words of the English language covering the probability space\n",
    "between 0 and 1, each word covering an interval proportional to its frequency. We\n",
    "choose a random value between 0 and 1 and print the word whose interval includes\n",
    "this chosen value.\n",
    "\n",
    "(J&M, section 4.3)"
   ]
  },
  {
   "cell_type": "code",
   "execution_count": 29,
   "metadata": {},
   "outputs": [
    {
     "name": "stdout",
     "output_type": "stream",
     "text": [
      "Done training, making a sentence now\n",
      "Majora mentioned this whole non-governmental world , marching to the elastic skin to entertain the crowd . \n",
      "\n",
      "Digg is a playing card in the world , so there 's been 25 years and rose to be adaptable to change the world can teach us how to do . \n",
      "\n"
     ]
    }
   ],
   "source": [
    "from random import random\n",
    "from copy import copy\n",
    "\n",
    "def sample_smoothed_words(lm,word_list,p,u):\n",
    "    new_unigram = copy(unigram)\n",
    "        \n",
    "    for j in word_list:\n",
    "        if j != \"#defaultProb$\":\n",
    "            del new_unigram[j]\n",
    "        \n",
    "    for i in lm:\n",
    "        default_prob = lm[i][\"#defaultProb$\"]\n",
    "        break\n",
    "        \n",
    "    for i in new_unigram:\n",
    "        new_unigram[i] = default_prob\n",
    "        p += default_prob\n",
    "        if p > u:\n",
    "            return i\n",
    "\n",
    "def sample_words(lm,prob_list,word_list):\n",
    "    u = random()\n",
    "    p = 0\n",
    "    # prob_list.append(0)\n",
    "    for i in range(0,len(prob_list)):\n",
    "        p += prob_list[i]\n",
    "        if p > u:\n",
    "            return word_list[i]\n",
    "    \n",
    "    return sample_smoothed_words(lm,word_list,p,u)\n",
    "        \n",
    "    \n",
    "def start_sentence(lm,N):\n",
    "    # We do not know how to start the sentence is N>2, since we do not have enough information to look back\n",
    "    # Therefore we randomly choose N-1 starting words from the history staring with '<s>'. \n",
    "    \n",
    "    start = '<s>'\n",
    "    \n",
    "    if N == 2:\n",
    "        return [start]\n",
    "    \n",
    "    word_list = []\n",
    "    \n",
    "    for i in lm:\n",
    "        if i[0] == start:\n",
    "            word_list.append(i)\n",
    "            \n",
    "    prob_list = list(np.ones([len(word_list)])* (1 / len(word_list)))\n",
    "    starting_words = sample_words(lm,prob_list,word_list)\n",
    "    \n",
    "    return [word for word in starting_words]\n",
    "\n",
    "def generate_sent(lm, N):\n",
    "    ## YOUR CODE HERE ##\n",
    "    \n",
    "    if N < 2 or N > 4:\n",
    "        raise NotImplementedError ('N should be 2, 3 or 4')\n",
    "        \n",
    "    end = '</s>'\n",
    "    sentence= start_sentence(lm,N)\n",
    "        \n",
    "    last_word = sentence[-1]\n",
    "    \n",
    "    while last_word != end:\n",
    "        previous_words = sentence[-(N-1):]\n",
    "        \n",
    "        word_list = []\n",
    "        prob_list = []\n",
    "        \n",
    "        for i in lm:\n",
    "            if previous_words == list(i)[:N-1]:\n",
    "                for j in lm[i]:\n",
    "                    word_list.append(j)\n",
    "                    prob_list.append(lm[i][j])            \n",
    "        # print (word_list)\n",
    "        # print (prob_list)\n",
    "        next_word = sample_words(lm,prob_list,word_list)\n",
    "        \n",
    "        while next_word == '<s>' or next_word == \"#defaultProb$\" or next_word == None:\n",
    "            next_word = sample_words(lm,prob_list,word_list)\n",
    "        \n",
    "        if next_word == None:\n",
    "            raise NotImplementedError ('Next word is none, something went wrong!')\n",
    "        \n",
    "        sentence.append(next_word)\n",
    "        last_word = sentence[-1]\n",
    "\n",
    "        if next_word == '.':\n",
    "            sentence.append(end)\n",
    "            return sentence\n",
    "        \n",
    "        if next_word == end:\n",
    "            return sentence \n",
    "        \n",
    "        # Manually cut of sentences longer than 30 words, to prevent infinite sentences\n",
    "        if len(sentence) > 30:\n",
    "            sentence.append('.')\n",
    "            sentence.append(end)\n",
    "            return sentence\n",
    "    \n",
    "def read_and_train(train_file,N,k):\n",
    "    data, w2i, i2w = read(train_file)\n",
    "    # _, unigram = train_ngram(data, N, k=0)\n",
    "    ngram, unigram = train_ngram(data, N, k)\n",
    "    return ngram, unigram\n",
    "\n",
    "N = 3\n",
    "k = 0\n",
    "train_file = \"ted-train.txt\"\n",
    "\n",
    "#------------------------------------------#\n",
    "# UNCOMMENT THIS LINE ONCE IT IS TRAINED\n",
    "ngram,unigram = read_and_train(train_file,N,k)\n",
    "#------------------------------------------#\n",
    "\n",
    "print ('Done training, making a sentence now')\n",
    "\n",
    "for i in range(2):\n",
    "    sentence = generate_sent(ngram,N)\n",
    "\n",
    "    sentence_str = str()\n",
    "    for i in sentence[1:-1]:\n",
    "        sentence_str += i + ' '\n",
    "\n",
    "    print (sentence_str)\n",
    "    print ('')"
   ]
  },
  {
   "cell_type": "markdown",
   "metadata": {},
   "source": [
    "### [Optional]\n",
    "\n",
    "For how many of the histories $w_{k-N+1}\\dots w_{k-1}$ is the number of continuations $w_n$ equal to **one**? Calculate the percentage of such cases for the different orders *N*.\n",
    "\n",
    "And which history has the **most possible continuations**?"
   ]
  },
  {
   "cell_type": "code",
   "execution_count": null,
   "metadata": {
    "collapsed": true
   },
   "outputs": [],
   "source": []
  },
  {
   "cell_type": "markdown",
   "metadata": {},
   "source": [
    "## Excercise 2.3 (5 points)\n",
    "\n",
    "Let $V$ denote our vocabulary. Recall that for any $w$ in $V$ `bigram[w]` defines a conditional probability $p(v|w)$ over $v$ in $V$. In the case of an **unsmoothed bigram**, $p(v|w) = 0$ for most $v\\in V$, whereas in the **smoothed bigram** smoothing took care that $p(v|w) \\geq 0$ for *all* $v$.\n",
    "\n",
    "The function `plot_bigram_dist(word, bigram, smoothbigram, k=30)` plots shows $p(v|word)$ for the `k` words $v$. One bar shows the probabilities in `bigram` and one in `smoothbigram`. \n",
    "\n",
    "**(a)** Use this function to plot the distribution for at least two words `w` and answer the questions\n",
    "* What is the effect of smoothing on the bigram distribution of frequent words? \n",
    "* What is the effect in the case of infrequent words?\n",
    "* Explain the difference between the two based on the raw counts of `w` \n",
    "\n",
    "**(b)** Now experiment with $k$ much smaller than 1 (but greater than 0!) \n",
    "* What are the effects?\n",
    "\n",
    "\n",
    "**[Hint]** Remember that add-1 smoothing turns \n",
    "$$P(w_n\\mid w_{n-1}) = \\frac{C(w_{n-1}w_{n})}{C(w_{n-1})}$$\n",
    "into\n",
    "$$P_{add-1}(w_n\\mid w_{n-1}) = \\frac{C(w_{n-1}w_{n}) + 1}{C(w_{n-1}) + |V|}.$$\n",
    "\n",
    "What happens when $C(w_{n-1})$ is relatively big (similiar in of size as $ |V| $)? And what if $C(w_{n-1})$ is small? "
   ]
  },
  {
   "cell_type": "code",
   "execution_count": 30,
   "metadata": {
    "collapsed": true
   },
   "outputs": [],
   "source": [
    "import pandas as pd\n",
    "import seaborn as sns    \n",
    "\n",
    "def plot_bigram_dist(word, bigram, smoothbigram, k=30):\n",
    "    d = bigram[word]\n",
    "    ds = smoothbigram[word]\n",
    "    \n",
    "    # sort the probabilities\n",
    "    d_sort = sorted(d.items(), reverse=True, key=lambda t: t[1])[0:k]\n",
    "    ds_sort = sorted(ds.items(), reverse=True, key=lambda t: t[1])[0:k]\n",
    "    \n",
    "    _, probs = zip(*d_sort)\n",
    "    \n",
    "    smooth_ws, smooth_probs = zip(*ds_sort)\n",
    "    \n",
    "    # make up for the fact that in the unsmoothed case  probs is generally less than k long\n",
    "    probs = probs + (0,) * (k-len(probs)) \n",
    "    \n",
    "    # I had to include these lines to make the arrays of equal length...\n",
    "    smooth_probs = smooth_probs + (0,) * (k-len(smooth_probs))\n",
    "    smooth_ws = smooth_ws + (0,) * (k-len(smooth_ws))\n",
    "\n",
    "    w_data = pd.DataFrame({\"w\": smooth_ws * 2,\n",
    "                           \"P({}|w)\".format(word): probs + smooth_probs,\n",
    "                           \"smoothing\": [\"unsmoothed\"]*k + [\"smoothed\"]*k})\n",
    "    \n",
    "    fig, ax = plt.subplots(figsize=(10,10))\n",
    "    plt.xticks(rotation=90)\n",
    "    g = sns.barplot(ax=ax, x=\"w\", y=\"P({}|w)\".format(word), hue=\"smoothing\",\n",
    "                    data=w_data, palette=\"Blues_d\")"
   ]
  },
  {
   "cell_type": "code",
   "execution_count": 31,
   "metadata": {
    "scrolled": true
   },
   "outputs": [
    {
     "data": {
      "image/png": "[encoded data removed]",
      "text/plain": [
       "<matplotlib.figure.Figure at 0x10580e588>"
      ]
     },
     "metadata": {},
     "output_type": "display_data"
    },
    {
     "data": {
      "image/png": "[encoded data removed]",
      "text/plain": [
       "<matplotlib.figure.Figure at 0x198307518>"
      ]
     },
     "metadata": {},
     "output_type": "display_data"
    },
    {
     "data": {
      "image/png": "[encoded data removed]",
      "text/plain": [
       "<matplotlib.figure.Figure at 0x16e794ba8>"
      ]
     },
     "metadata": {},
     "output_type": "display_data"
    },
    {
     "data": {
      "image/png": "[encoded data removed]",
      "text/plain": [
       "<matplotlib.figure.Figure at 0x163a76d68>"
      ]
     },
     "metadata": {},
     "output_type": "display_data"
    },
    {
     "data": {
      "image/png": "[encoded data removed]",
      "text/plain": [
       "<matplotlib.figure.Figure at 0x178d37ba8>"
      ]
     },
     "metadata": {},
     "output_type": "display_data"
    },
    {
     "data": {
      "image/png": "[encoded data removed]",
      "text/plain": [
       "<matplotlib.figure.Figure at 0x15aa4f908>"
      ]
     },
     "metadata": {},
     "output_type": "display_data"
    }
   ],
   "source": [
    "# Training:\n",
    "train_file = \"ted-train.txt\"\n",
    "data, w2i, i2w = read(train_file)\n",
    "bigram, unigram = train_ngram(data, N=2)\n",
    "bigram_smoothed, unigram_smoothed = train_ngram(data, N=2, k=1)\n",
    "\n",
    "#Plotting first three plots:\n",
    "plot_bigram_dist((\"<s>\",), bigram, bigram_smoothed, k=30)\n",
    "plot_bigram_dist((\"New\",), bigram, bigram_smoothed, k=30)\n",
    "plot_bigram_dist((\"that\",), bigram, bigram_smoothed, k=30)\n",
    "\n",
    "# Retraining for k=0.1:\n",
    "bigram_smoothed, unigram_smoothed = train_ngram(data, N=2, k=0.1)\n",
    "\n",
    "# Plotting second three plots:\n",
    "plot_bigram_dist((\"<s>\",), bigram, bigram_smoothed, k=30)\n",
    "plot_bigram_dist((\"New\",), bigram, bigram_smoothed, k=30)\n",
    "plot_bigram_dist((\"that\",), bigram, bigram_smoothed, k=30)"
   ]
  },
  {
   "cell_type": "markdown",
   "metadata": {},
   "source": [
    "**Q&A**:\n",
    "\n",
    "**(a)** Use this function to plot the distribution for at least two words `w` and answer the questions\n",
    "* What is the effect of smoothing on the bigram distribution of frequent words? \n",
    "    * *Frequent words have a higher spread in terms of follow-up words, so there are more \"rich\" words to steal from, and distribute amongst the poor.*\n",
    "* What is the effect in the case of infrequent words?\n",
    "    * *The opposite happens for infrequent words, where there are very little rich words that have to provide for all poor words that follow. Therefore, a huge difference is expected between the highest unsmoothed percentage and smoothed percentage for words such as \"New\".*\n",
    "* Explain the difference between the two based on the raw counts of `w` \n",
    "    * *The higher the count number is for infrequent `w`, the smaller the smoothed remaining percentage becomes for that `w`.\n",
    "\n",
    "**(b)** Now experiment with $k$ much smaller than 1 (but greater than 0!) \n",
    "* What are the effects?\n",
    "    * *For $k$ = 0.1, we see that the smoothed percentages for words increase dramatically. For frequent words the smoothed percentage is almost equal to the unsmoothed equivalent.*"
   ]
  },
  {
   "cell_type": "markdown",
   "metadata": {},
   "source": [
    "\n",
    "**Recall** that if we have a sentence $w_1,\\dots,w_n$ we can write\n",
    "\n",
    "$$P(w_1\\dots w_n) = P(w_1)P(w_2|w_1) \\cdots P(w_i|w_1 \\dots w_{n-1}) \\approx P(w_1)P(w_2|w_1)\\cdots P(w_{N-1}|w_1\\dots w_{N-2})\\prod_{i=N}^{n} P(w_i|w_{i-(N-1)}\\dots w_{i-1})$$\n",
    "\n",
    "where in the last step we make an $N$-gram approximation of the full conditionals.\n",
    "\n",
    "For example, in the case of a bigram (N=2), the above expression reduces to\n",
    "\n",
    "$$P(w_1 \\dots w_n)\\approx P(w_1)\\prod_{i=2}^{n} P(w_i| w_{i-1}).$$\n",
    "\n",
    "## Exercise 2.4 (5 points)\n",
    "\n",
    "The following sentences are taken from the **training data**. Use your **unsmoothed unigram**, **bigram**, and **trigram** language model to estimate their **probabilities**:\n",
    "\n",
    "    1. Every day was about creating something new .\n",
    "    2. In this machine , a beam of protons and anti-protons are accelerated to near the speed of light and brought \n",
    "       together in a collision , producing a burst of pure energy .\n",
    "\n",
    "**Repeat** this with the **smoothed (add-1)** versions of the N-grams. What is the effect of smoothing on the probabilities?\n"
   ]
  },
  {
   "cell_type": "code",
   "execution_count": 35,
   "metadata": {
    "collapsed": true
   },
   "outputs": [],
   "source": [
    "# We need additional information from the train_ngram function, therefore we run a slightly updated version:\n",
    "\n",
    "def train_for_analysis(data, N, k=0):    \n",
    "    unpacked_data = [word for sent in data for word in sent]\n",
    "    unigram = defaultdict(float, Counter(unpacked_data)) # default prob is 0.0           \n",
    "\n",
    "    total_num_words = sum(unigram.values())\n",
    "\n",
    "    vocab_size = len(unigram)\n",
    "\n",
    "    for i in unigram:\n",
    "        unigram[i] = (unigram[i] + k)/(total_num_words + k*vocab_size)\n",
    "\n",
    "    tups_of_size_N = list(zip(*[unpacked_data[i:] for i in range(N)]))\n",
    "    tups_of_size_N_1 = list(zip(*[unpacked_data[i:] for i in range(N-1)]))\n",
    "\n",
    "    count_each_tup = Counter(tups_of_size_N)\n",
    "    count_each_tup_N_1 = Counter(tups_of_size_N_1)\n",
    "\n",
    "    ngram = defaultdict(lambda: defaultdict(float))\n",
    "\n",
    "    for sent, freq in count_each_tup.items():\n",
    "        word = sent[-1]\n",
    "        hist = sent[:-1]\n",
    "        hist_freq = count_each_tup_N_1[sent[:-1]]\n",
    "        ngram[hist][word] = (freq + k)/(hist_freq + k * vocab_size)\n",
    "        \n",
    "        \n",
    "    return ngram,unigram,count_each_tup,count_each_tup_N_1"
   ]
  },
  {
   "cell_type": "code",
   "execution_count": 36,
   "metadata": {},
   "outputs": [
    {
     "name": "stdout",
     "output_type": "stream",
     "text": [
      "Done training\n",
      "The unigram gives sentence 1 a probability of 8.711492631550748e-27\n",
      "The unigram model gives sentence 1 a perplexity of 403.63678900916966\n",
      "The unigram gives sentence 2 a probability of 2.7545011290780525e-102\n",
      "The unigram model gives sentence 2 a perplexity of 970.6386043998526\n",
      "The smoothed unigram gives sentence 1 a probability of 7.628943757061614e-27\n",
      "The smoothed unigram model gives sentence 1 a perplexity of 409.0284897884788\n",
      "The smoothed unigram gives sentence 2 a probability of 4.109546393965371e-102\n",
      "The smoothed unigram model gives sentence 2 a perplexity of 959.2840832965023\n",
      "\n",
      "The bigram gives sentence 1 a probability of 2.214077573306052e-18\n",
      "The bigram model gives sentence 1 a perplexity of 58.274789938671596\n",
      "The bigram gives sentence 2 a probability of 9.5620634968757e-74\n",
      "The bigram model gives sentence 2 a perplexity of 140.48528427393163\n",
      "The smoothed bigram gives sentence 1 a probability of 6.382377836002344e-28\n",
      "The smoothed bigram model gives sentence 1 a perplexity of 524.2057120001004\n",
      "The smoothed bigram gives sentence 2 a probability of 7.276208300490344e-118\n",
      "The smoothed bigram model gives sentence 2 a perplexity of 2787.6489670368474\n",
      "\n",
      "The trigram gives sentence 1 a probability of 5.886621677857055e-13\n",
      "The trigram model gives sentence 1 a perplexity of 16.711421277462403\n",
      "The trigram gives sentence 2 a probability of 1.6934912147549002e-32\n",
      "The trigram model gives sentence 2 a perplexity of 8.598992305819479\n",
      "The smoothed trigram gives sentence 1 a probability of 7.189749939889851e-37\n",
      "The smoothed trigram model gives sentence 1 a perplexity of 4114.609471048647\n",
      "The smoothed trigram gives sentence 2 a probability of 6.558640914450045e-138\n",
      "The smoothed trigram model gives sentence 2 a perplexity of 10834.26845644853\n"
     ]
    }
   ],
   "source": [
    "## YOUR CODE HERE ##\n",
    "train_file = \"ted-train.txt\"\n",
    "sentence1 = ['<s>','Every', 'day', 'was', 'about', 'creating', 'something', 'new','.','</s>']\n",
    "sentence2 = ['<s>','In', 'this', 'machine', ',' ,'a', 'beam', 'of', 'protons', 'and', 'anti-protons', 'are' ,\\\n",
    "             'accelerated' ,'to' ,'near','the' ,'speed', 'of', 'light', 'and', 'brought', 'together', 'in', 'a', 'collision',\\\n",
    "             ',' ,'producing', 'a', 'burst','of', 'pure', 'energy', '.','</s>']\n",
    "sentence3 = ['<s>','The', 'company', 'was', 'brilliant','</s>' ]\n",
    "\n",
    "#---------------------------------------#\n",
    "# Train here first\n",
    "\n",
    "data, _, _ = read(train_file)\n",
    "bigram,unigram, _, count_each_tup_N_1 = train_for_analysis(data,2,k=0)\n",
    "smoothed_bigram, smoothed_unigram,_,_ = train_for_analysis(data,2,k=1)\n",
    "trigram,_,_,count_each_tup_2 = train_for_analysis(data,3,k=0)\n",
    "smoothed_trigram,_,_,_ = train_for_analysis(data,3,k=1)\n",
    "print ('Done training')\n",
    "\n",
    "#---------------------------------------#\n",
    "\n",
    "prob_unigram1 = 1\n",
    "prob_smoothed_unigram1 = 1\n",
    "for i in sentence1:\n",
    "    prob_unigram1 *= unigram[i]\n",
    "    prob_smoothed_unigram1 *= smoothed_unigram[i]\n",
    "\n",
    "prob_unigram2 = 1\n",
    "prob_smoothed_unigram2 = 1\n",
    "for i in sentence2:\n",
    "    prob_unigram2 *= unigram[i]\n",
    "    prob_smoothed_unigram2 *= smoothed_unigram[i]\n",
    "\n",
    "    prob_bigram1 = unigram[sentence1[0]]\n",
    "prob_smoothed_bigram1 = smoothed_unigram[sentence1[0]]\n",
    "for i in range(1,len(sentence1)):\n",
    "    prob_bigram1 *= bigram[((sentence1)[i-1],)][(sentence1)[i]]\n",
    "    if smoothed_bigram[((sentence1)[i-1],)][(sentence1)[i]] == 0.0:\n",
    "        prob_smoothed_bigram1 *= 1 / (len(unigram)+count_each_tup_N_1[sentence1[i-1]])\n",
    "    else:\n",
    "        prob_smoothed_bigram1 *= smoothed_bigram[((sentence1)[i-1],)][(sentence1)[i]]\n",
    "        \n",
    "prob_bigram2 = unigram[sentence2[0]]\n",
    "prob_smoothed_bigram2 = smoothed_unigram[sentence2[0]]        \n",
    "for i in range(1,len(sentence2)):\n",
    "    prob_bigram2 *= bigram[((sentence2)[i-1],)][(sentence2)[i]]\n",
    "    \n",
    "    if smoothed_bigram[((sentence2)[i-1],)][(sentence2)[i]] == 0.0:\n",
    "        prob_smoothed_bigram2 *= 1 / (len(unigram)+count_each_tup_N_1[sentence2[i-1]])\n",
    "    else:\n",
    "        prob_smoothed_bigram2 *= smoothed_bigram[((sentence2)[i-1],)][(sentence2)[i]]\n",
    "\n",
    "prob_trigram1 = unigram[sentence1[0]] * bigram[((sentence1)[0],)][(sentence1)[1]]\n",
    "prob_smoothed_trigram1 = smoothed_unigram[sentence1[0]] * smoothed_bigram[((sentence1)[0],)][(sentence1)[1]]\n",
    "# Assuming the second part of prob_smoothed_trigram is not 0\n",
    "for i in range(2,len(sentence1)):\n",
    "    prob_trigram1 *= trigram[(sentence1[i-2],(sentence1)[i-1])][(sentence1)[i]]\n",
    "    \n",
    "    if smoothed_trigram[(sentence1[i-2],(sentence1)[i-1])][(sentence1)[i]] == 0.0:\n",
    "        prob_smoothed_trigram1 *= 1 / (len(unigram)+count_each_tup_2[sentence1[i-2],sentence1[i-1]])\n",
    "    else:\n",
    "        prob_smoothed_trigram1 *= smoothed_trigram[(sentence1[i-2],(sentence1)[i-1])][(sentence1)[i]]\n",
    "        \n",
    "prob_trigram2 = unigram[sentence2[0]] * bigram[((sentence2)[0],)][(sentence2)[1]]\n",
    "prob_smoothed_trigram2 = smoothed_unigram[sentence2[0]] * smoothed_bigram[((sentence2)[0],)][(sentence2)[1]]\n",
    "# Assuming the second part of prob_smoothed_trigram is not 0\n",
    "for i in range(2,len(sentence2)):\n",
    "    prob_trigram2 *= trigram[(sentence2[i-2],(sentence2)[i-1])][(sentence2)[i]]\n",
    "    \n",
    "    if smoothed_trigram[(sentence2[i-2],(sentence2)[i-1])][(sentence2)[i]] == 0.0:\n",
    "        prob_smoothed_trigram2 *= 1 / (len(unigram)+count_each_tup_2[sentence2[i-2],sentence2[i-1]])\n",
    "    else:\n",
    "        prob_smoothed_trigram2 *= smoothed_trigram[(sentence2[i-2],(sentence2)[i-1])][(sentence2)[i]]       \n",
    "\n",
    "print ('The unigram gives sentence 1 a probability of',prob_unigram1)\n",
    "if prob_unigram1 > 0:\n",
    "    print ('The unigram model gives sentence 1 a perplexity of',prob_unigram1**(-1/len(sentence1)))\n",
    "print ('The unigram gives sentence 2 a probability of',prob_unigram2)\n",
    "if prob_unigram2 > 0:\n",
    "    print ('The unigram model gives sentence 2 a perplexity of',prob_unigram2**(-1/len(sentence2)))\n",
    "print ('The smoothed unigram gives sentence 1 a probability of',prob_smoothed_unigram1)\n",
    "if prob_smoothed_unigram1 > 0:\n",
    "    print ('The smoothed unigram model gives sentence 1 a perplexity of',prob_smoothed_unigram1**(-1/len(sentence1)))\n",
    "print ('The smoothed unigram gives sentence 2 a probability of',prob_smoothed_unigram2)\n",
    "if prob_smoothed_unigram2 > 0:\n",
    "    print ('The smoothed unigram model gives sentence 2 a perplexity of',prob_smoothed_unigram2**(-1/len(sentence2)))\n",
    "print ('')\n",
    "print ('The bigram gives sentence 1 a probability of',prob_bigram1)\n",
    "if prob_bigram1 > 0:\n",
    "    print ('The bigram model gives sentence 1 a perplexity of',prob_bigram1**(-1/len(sentence1)))\n",
    "print ('The bigram gives sentence 2 a probability of',prob_bigram2)\n",
    "if prob_bigram2 > 0:\n",
    "    print ('The bigram model gives sentence 2 a perplexity of',prob_bigram2**(-1/len(sentence2)))\n",
    "print ('The smoothed bigram gives sentence 1 a probability of',prob_smoothed_bigram1)\n",
    "if prob_smoothed_bigram1 > 0:\n",
    "    print ('The smoothed bigram model gives sentence 1 a perplexity of',prob_smoothed_bigram1**(-1/len(sentence1)))\n",
    "print ('The smoothed bigram gives sentence 2 a probability of',prob_smoothed_bigram2)\n",
    "if prob_smoothed_bigram2 > 0:\n",
    "    print ('The smoothed bigram model gives sentence 2 a perplexity of',prob_smoothed_bigram2**(-1/len(sentence2)))\n",
    "print ('')\n",
    "print ('The trigram gives sentence 1 a probability of',prob_trigram1)\n",
    "if prob_trigram1 > 0:\n",
    "    print ('The trigram model gives sentence 1 a perplexity of',prob_trigram1**(-1/len(sentence1)))\n",
    "print ('The trigram gives sentence 2 a probability of',prob_trigram2)\n",
    "if prob_trigram2 > 0:\n",
    "    print ('The trigram model gives sentence 2 a perplexity of',prob_trigram2**(-1/len(sentence2)))\n",
    "print ('The smoothed trigram gives sentence 1 a probability of',prob_smoothed_trigram1)\n",
    "if prob_smoothed_trigram1 > 0:\n",
    "    print ('The smoothed trigram model gives sentence 1 a perplexity of',prob_smoothed_trigram1**(-1/len(sentence1)))\n",
    "print ('The smoothed trigram gives sentence 2 a probability of',prob_smoothed_trigram2)\n",
    "if prob_smoothed_trigram2 > 0:\n",
    "    print ('The smoothed trigram model gives sentence 2 a perplexity of',prob_smoothed_trigram2**(-1/len(sentence2)))\n"
   ]
  },
  {
   "cell_type": "markdown",
   "metadata": {},
   "source": [
    "**Q&A**\n",
    "\n",
    "In case of the unigram model, smoothing does not do much. But in higer ngram models, smoothing reduces the probability of a sentece from the training set. This is because the probability of P(w_i|w_i-1) is not shared among ALL the words in the vocabulary."
   ]
  },
  {
   "cell_type": "markdown",
   "metadata": {},
   "source": [
    "## Exercise 2.5 (5 points)\n",
    "\n",
    "The above sentences were taken from the training set, hence they will all have probability greater than 0. The big challenge for our language model are of course with sentence that contain unseen N-grams: if such an N-gram occurs our model immediately assigns the sentence probability zero.\n",
    "\n",
    "The following three senteces are taken from the **test set** availlable in the file **ted-test.txt**. What probabilities do your smoothed and unsmoothed language models asign in this case?\n",
    "\n",
    "    1. Because these robots are really safe .\n",
    "    2. We have sheer nothingness on one side , and we have this vision of a reality that encompasses every \n",
    "       conceivable world at the other extreme : the fullest possible reality , nothingness , the simplest possible \n",
    "       reality ."
   ]
  },
  {
   "cell_type": "code",
   "execution_count": 37,
   "metadata": {},
   "outputs": [
    {
     "name": "stdout",
     "output_type": "stream",
     "text": [
      "The unigram gives sentence 1 a probability of 3.5731707008639346e-24\n",
      "The unigram gives sentence 2 a probability of 1.0652962963646993e-118\n",
      "The smoothed unigram gives sentence 1 a probability of 3.1752807875634993e-24\n",
      "The smoothed unigram gives sentence 2 a probability of 1.0537567675869402e-118\n",
      "\n",
      "The bigram gives sentence 1 a probability of 1.2765415009174315e-16\n",
      "The bigram gives sentence 2 a probability of 0.0\n",
      "The smoothed bigram gives sentence 1 a probability of 3.396065051269906e-25\n",
      "The smoothed bigram gives sentence 2 a probability of 6.911556074659449e-128\n",
      "\n",
      "The trigram gives sentence 1 a probability of 0.0\n",
      "The trigram gives sentence 2 a probability of 0.0\n",
      "The smoothed trigram gives sentence 1 a probability of 1.1548972521480318e-34\n",
      "The smoothed trigram gives sentence 2 a probability of 2.9507325276779447e-158\n"
     ]
    }
   ],
   "source": [
    "### YOUR CODE HERE ###\n",
    "train_file = \"ted-train.txt\"\n",
    "sentence1 = ['<s>','Because', 'these', 'robots', 'are', 'really', 'safe','.','</s>']\n",
    "sentence2 = ['<s>','We', 'have', 'sheer', 'nothingness' ,'on', 'one', 'side', ',', 'and', 'we', 'have' ,\\\n",
    "             'this' ,'vision' ,'of','a' ,'reality', 'that', 'encompasses', 'every', 'conceivable', 'world', 'at', \\\n",
    "             'the', 'other', 'extreme' ,':', 'the', 'fullest','possible', 'reality', ',', 'nothingness',',', \\\n",
    "             'simplest', 'possible', 'reality','.', '</s>']\n",
    "sentence3 = ['<s>','The', 'company', 'was', 'brilliant','</s>' ]\n",
    "\n",
    "#---------------------------------------#\n",
    "# Train here first\n",
    "'''\n",
    "data, _, _ = read(train_file)\n",
    "bigram,unigram, _, count_each_tup_N_1 = train_for_analysis(data,2,k=0)\n",
    "smoothed_bigram, smoothed_unigram,_,_ = train_for_analysis(data,2,k=1)\n",
    "trigram,_,_,count_each_tup_2 = train_for_analysis(data,3,k=0)\n",
    "smoothed_trigram,_,_,_ = train_for_analysis(data,3,k=1)\n",
    "'''\n",
    "#---------------------------------------#\n",
    "\n",
    "prob_unigram1 = 1\n",
    "prob_smoothed_unigram1 = 1\n",
    "for i in sentence1:\n",
    "    prob_unigram1 *= unigram[i]\n",
    "    prob_smoothed_unigram1 *= smoothed_unigram[i]\n",
    "\n",
    "prob_unigram2 = 1\n",
    "prob_smoothed_unigram2 = 1\n",
    "for i in sentence2:\n",
    "    prob_unigram2 *= unigram[i]\n",
    "    prob_smoothed_unigram2 *= smoothed_unigram[i]\n",
    "\n",
    "prob_bigram1 = unigram[sentence1[0]]\n",
    "prob_smoothed_bigram1 = smoothed_unigram[sentence1[0]]\n",
    "for i in range(1,len(sentence1)):\n",
    "    prob_bigram1 *= bigram[((sentence1)[i-1],)][(sentence1)[i]]\n",
    "    \n",
    "    if smoothed_bigram[((sentence1)[i-1],)][(sentence1)[i]] == 0.0:\n",
    "        prob_smoothed_bigram1 *= 1 / (len(unigram)+count_each_tup_N_1[sentence1[i-1]])\n",
    "    else:\n",
    "        prob_smoothed_bigram1 *= smoothed_bigram[((sentence1)[i-1],)][(sentence1)[i]]\n",
    "\n",
    "prob_bigram2 = unigram[sentence2[0]]\n",
    "prob_smoothed_bigram2 = smoothed_unigram[sentence2[0]]        \n",
    "for i in range(1,len(sentence2)):\n",
    "    prob_bigram2 *= bigram[((sentence2)[i-1],)][(sentence2)[i]]\n",
    "    \n",
    "    if smoothed_bigram[((sentence2)[i-1],)][(sentence2)[i]] == 0.0:\n",
    "        prob_smoothed_bigram2 *= 1 / (len(unigram)+count_each_tup_N_1[sentence2[i-1]])\n",
    "    else:\n",
    "        prob_smoothed_bigram2 *= smoothed_bigram[((sentence2)[i-1],)][(sentence2)[i]]\n",
    "\n",
    "prob_trigram1 = unigram[sentence1[0]] * bigram[((sentence1)[0],)][(sentence1)[1]]\n",
    "prob_smoothed_trigram1 = smoothed_unigram[sentence1[0]] * smoothed_bigram[((sentence1)[0],)][(sentence1)[1]]\n",
    "# Assuming the second part of prob_smoothed_trigram is not 0\n",
    "for i in range(2,len(sentence1)):\n",
    "    prob_trigram1 *= trigram[(sentence1[i-2],(sentence1)[i-1])][(sentence1)[i]]\n",
    "    if smoothed_trigram[(sentence1[i-2],(sentence1)[i-1])][(sentence1)[i]] == 0.0:\n",
    "        prob_smoothed_trigram1 *= 1 / (len(unigram)+count_each_tup_2[sentence1[i-2],sentence1[i-1]])\n",
    "    else:\n",
    "        prob_smoothed_trigram1 *= smoothed_trigram[(sentence1[i-2],(sentence1)[i-1])][(sentence1)[i]]\n",
    "        \n",
    "prob_trigram2 = unigram[sentence2[0]] * bigram[((sentence2)[0],)][(sentence2)[1]]\n",
    "prob_smoothed_trigram2 = smoothed_unigram[sentence2[0]] * smoothed_bigram[((sentence2)[0],)][(sentence2)[1]]\n",
    "# Assuming the second part of prob_smoothed_trigram is not 0\n",
    "for i in range(2,len(sentence2)):\n",
    "    prob_trigram2 *= trigram[(sentence2[i-2],(sentence2)[i-1])][(sentence2)[i]]\n",
    "    \n",
    "    if smoothed_trigram[(sentence2[i-2],(sentence2)[i-1])][(sentence2)[i]] == 0.0:\n",
    "        prob_smoothed_trigram2 *= 1 / (len(unigram)+count_each_tup_2[sentence2[i-2],sentence2[i-1]])\n",
    "    else:\n",
    "        prob_smoothed_trigram2 *= smoothed_trigram[(sentence2[i-2],(sentence2)[i-1])][(sentence2)[i]]       \n",
    "        \n",
    "print ('The unigram gives sentence 1 a probability of',prob_unigram1)\n",
    "print ('The unigram gives sentence 2 a probability of',prob_unigram2)\n",
    "print ('The smoothed unigram gives sentence 1 a probability of',prob_smoothed_unigram1)\n",
    "print ('The smoothed unigram gives sentence 2 a probability of',prob_smoothed_unigram2)\n",
    "print ('')\n",
    "print ('The bigram gives sentence 1 a probability of',prob_bigram1)\n",
    "print ('The bigram gives sentence 2 a probability of',prob_bigram2)\n",
    "print ('The smoothed bigram gives sentence 1 a probability of',prob_smoothed_bigram1)\n",
    "print ('The smoothed bigram gives sentence 2 a probability of',prob_smoothed_bigram2)\n",
    "print ('')\n",
    "print ('The trigram gives sentence 1 a probability of',prob_trigram1)\n",
    "print ('The trigram gives sentence 2 a probability of',prob_trigram2)\n",
    "print ('The smoothed trigram gives sentence 1 a probability of',prob_smoothed_trigram1)\n",
    "print ('The smoothed trigram gives sentence 2 a probability of',prob_smoothed_trigram2)\n"
   ]
  },
  {
   "cell_type": "markdown",
   "metadata": {},
   "source": [
    "### [Optional]\n",
    "\n",
    "**Optional** What percentage of the sentences in the test set get assigned probability 0 under your smoothed and unsmoothed language models? "
   ]
  },
  {
   "cell_type": "code",
   "execution_count": null,
   "metadata": {
    "collapsed": true
   },
   "outputs": [],
   "source": [
    "### ANSWER HERE ###"
   ]
  },
  {
   "cell_type": "markdown",
   "metadata": {},
   "source": [
    "## Exercise 2.6 (5 points)\n",
    "\n",
    "**Perplexity** is very frequently used **metric** for evaluating probabilistic models such as language models. The perplexity (sometimes called **PP** for short) of a language model on a sentence is the **inverse probability** of the sentence, **normalized** by the number of words:\n",
    "\n",
    "$$PP(w_1 \\dots w_n) = P(w_1\\dots w_n)^{-\\frac{1}{n}}.$$\n",
    "\n",
    "Here we can again approximate $P(w_1 \\dots w_n)$ with N-gram probabilities, as above.\n",
    "Note: $(x_1\\cdots x_n)^{-\\frac{1}{n}}$ is the **geometric mean** of the numbers $x_1,\\dots,x_n$. It is like the (regular) artithmetic mean, but with **products** instead of **sums**. The geometric mean is a more natural choice in the case of *PP* because behind $P(w_1\\dots w_n)$ is a series of $n$ products ([more here](https://en.wikipedia.org/wiki/Geometric_mean)).\n",
    "\n",
    "\n",
    "\n",
    "Compute the perplexity of the training sentences from excercise 2.1. What big difference between the **probabilities** of the sentences and the **perplexities** of the sentences do you notice?"
   ]
  },
  {
   "cell_type": "code",
   "execution_count": 34,
   "metadata": {},
   "outputs": [],
   "source": [
    "### YOUR CODE HERE ###\n",
    "# See answers above in Exercise 2.4, calculating the perplexity is taken into account there\n"
   ]
  },
  {
   "cell_type": "markdown",
   "metadata": {},
   "source": [
    "**Q&A**\n",
    "\n",
    "If the probability of a sentence decreases, the perplexity of the sentence increases. Thus maximizing the probability of a sentence is the same as minimizing the perplexity of the sentence. "
   ]
  },
  {
   "cell_type": "markdown",
   "metadata": {},
   "source": [
    "# That's it!\n",
    "\n",
    "Congratulations, you have made it to the end of the tutorial. Here we will recap the gist of this notebook. \n",
    "\n",
    "**Make sure all your cells can be executed and all your answers are there. Then, read on if you're interested!**\n",
    "\n",
    "-----\n",
    "\n",
    "By now you should have a solid feeling for the problem of **sparsity in language data**; there's just never enough data. For the task of language modelling, we saw that sparsity is a serious challenge. \n",
    "\n",
    "It would be great to be able to model $p(w_n|w_1 \\dots w_{n-1})$ for unlimited $n$: the larger $n$ the better our language model should become at capturing the long-range dependencies between words that characterize actual human sentences, and the more probability our model will asign to such sentences as opposed to sentences that are word-soup. But in the N-gram approach, increasing $n$ will quickly kill all generalizing abilities of the model: the model will start to asign probabilities only to sentences it has seen in the training data.\n",
    "\n",
    "So, where to go from here? Here are three directions that we could head in.\n",
    "\n",
    "### Smoothing\n",
    "\n",
    "We have seen one example of smoothing in this lab: add-k smoothing. This is an easy method, both conceptually and implementation-wise. But the results are not great, and the effects it has on the distributions can be extreme.\n",
    "\n",
    "A much more sophisticated method of smoothing is so-called **Kneser-Ney smoothing**. The method is described in detail in section 4.5 of J&M (3rd edition). This is one of the best performing N-gram smoothing methods, and up to a few years ago a popular implementation of it called [KenLM](https://kheafield.com/code/kenlm/) gave state of the art results.\n",
    "\n",
    "### From words to characters\n",
    "\n",
    "In this lab we have considered language modeling as the task of predicting a **word** $w_n$ based on a history of **words** $w_1\\cdots w_n$. What if instead we let our basic units of modelling be **characters**? The task then becomes to model $p(c_k\\mid c_{k-N-1}\\dots c_{k-1})$ where each $c_i$ is now an ASCII character instead of an entire word.\n",
    "\n",
    "Suddenly sparsity of data is no longer a problem! The set of characters to use is tiny (< 100) compared to even a small-sized vocabulary as today. Have a look at this very illustrative notebook written by Yoav Golberg to see such a method in action: [The unreasonable effectiveness of Character-level Language Models](http://nbviewer.jupyter.org/gist/yoavg/d76121dfde2618422139).\n",
    "\n",
    "(So what is the downside?)\n",
    "\n",
    "\n",
    "### Neural language models\n",
    "\n",
    "The above notebook was actually written as a response to this blog post by Andrej Karpathy: [The Unreasonable Effectiveness of Recurrent Neural Networks](http://karpathy.github.io/2015/05/21/rnn-effectiveness/). Go ahead and read it if you haven't already: it is a superb introduction to the topic of Recurrent Neural Networks.\n",
    "\n",
    "Neural language models solve the problem of data sparsity in a different manner. Instead of estimating the probabilities $p(w_k\\mid w_{k-N-1}\\dots w_{k-1})$ by counting occurences in the data, they use a neural network $f_{\\theta}$ parametrized by parameters $\\theta$ to predict this probability. The parameters $\\theta$ are learned through optimization. \n",
    "\n",
    "The simplest approach goes like this: each word in the history $w_{k-N-1}\\dots w_{k-1}$ is embedded separately giving  vectors $e_{k-N-1}\\dots e_{k-1}$ and then concatenated into one long vectors $[e_{k-N-1};\\dots ;e_{k-1}]$. The network then uses this history vector to predict a probability distribution over words $w$ in the vocabulary $V$:\n",
    "\n",
    "$$p(w \\mid w_{k-N-1}\\dots w_{k-1}) = f_{\\theta}([e_{k-N-1};\\dots;e_{k-1}]).$$\n",
    "\n",
    "(In order to produce legitimate probabilities the final layer of such a network will be for example a $softmax$.)\n",
    "\n",
    "This provides a solution to the sparsity problem by having the network let the individual embeddings of the words in the history interact through its non-linear transforamtion. We are letting the network figure out the smoothing itself!\n",
    "\n",
    "RNNs are a clever extension of this idea, where a hidden state vector $h$ is re-used and updated at each step $k$ in order to store the information of the entire history up to step $k-1$. That is, an RNN actually does away with the N-order approximation; it tries to model the full conditional directly! That means that\n",
    "\n",
    "$$p(w \\mid w_1\\dots w_{k-1}) \\approx RNN_{\\theta}([e_{k-1};h_{k-1}])$$\n",
    "\n",
    "where the hidden state $h_{k-1}$ is a compression of the *entire history* $w_1\\dots w_{k-1}$.\n",
    "\n",
    "Another great place to learn about RNNs, their problems, and solutions to those, is on the blog of [Christopher Olah](http://colah.github.io/posts/2015-08-Understanding-LSTMs/). The project on language modelling will involve learning more about these methods. \n",
    "\n",
    "-----------\n",
    "(And now, it's time to read the classic essay by Eugene Wigner that gave both of the posts their title: [The Unreasonable Effectiveness of Mathematics in the Natural Sciences](http://www.dartmouth.edu/~matc/MathDrama/reading/Wigner.html))"
   ]
  }
 ],
 "metadata": {
  "anaconda-cloud": {},
  "kernelspec": {
   "display_name": "Python 3",
   "language": "python",
   "name": "python3"
  },
  "language_info": {
   "codemirror_mode": {
    "name": "ipython",
    "version": 3
   },
   "file_extension": ".py",
   "mimetype": "text/x-python",
   "name": "python",
   "nbconvert_exporter": "python",
   "pygments_lexer": "ipython3",
   "version": "3.5.4"
  }
 },
 "nbformat": 4,
 "nbformat_minor": 1
}
