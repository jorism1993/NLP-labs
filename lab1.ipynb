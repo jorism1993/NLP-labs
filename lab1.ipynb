{
 "cells": [
  {
   "cell_type": "code",
   "execution_count": 1,
   "metadata": {
    "collapsed": true
   },
   "outputs": [],
   "source": [
    "%matplotlib inline\n",
    "import matplotlib\n",
    "import numpy as np\n",
    "import matplotlib.pyplot as plt\n",
    "from collections import Counter, defaultdict"
   ]
  },
  {
   "cell_type": "markdown",
   "metadata": {},
   "source": [
    "# Lab 1: Text Corpora and Language Modelling\n",
    "\n",
    "This lab is meant to help you get familiar with some language data, and use this data to estimate N-gram language models\n",
    "\n",
    "First you will use the **Penn Treebank**, which is a collection of newspaper articles from the newspaper \n",
    "The Wall Street Journal. The idea is to examine the data and notice interesting properties. This will not take more than a few lines of code.\n",
    "\n",
    "Then you will use a corpus consisting of **TedX** talks. This you will use to estimate an **N-gram language model** for different orders of N, and use this this for some tasks.\n",
    "\n",
    "The datasets are on blackboard under course materials. Download the zip and make sure to put the files in the same directory as the notebook.\n",
    "\n",
    "### Rules\n",
    "* The lab exercises should be made in **groups of two people**.\n",
    "\n",
    "* The deadline is **Tuesday 7 nov 16:59**.\n",
    "\n",
    "* The assignment should submitted to **Blackboard** as `.ipynb`. Only **one submission per group**.\n",
    "\n",
    "* The **filename** should be `lab1_lastname1_lastname2.ipynb`, so for example `lab1_Jurafsky_Martin.ipynb`.\n",
    "\n",
    "* The notebook is graded on a scale of **0-10**. The number of points for each question is indicated in parantheses. \n",
    "\n",
    "* The questions marked **optional** are not graded; they are an additional challenge for those interested in going the extra mile. \n",
    "\n",
    "Notes on implementation:\n",
    "\n",
    "* You should **write your code and answers in this iPython Notebook** (see http://ipython.org/notebook.html for reference material). If you have problems, please contact your teaching assistant.\n",
    "\n",
    "* Use only **one cell for code** and **one cell for markdown** answers!    \n",
    "\n",
    "    * Put all code in the cell with the `# YOUR CODE HERE` comment.\n",
    "    \n",
    "    * For theoretical question, put your solution in the YOUR ANSWER HERE cell.\n",
    "    \n",
    "* Test your code and **make sure we can run your notebook**"
   ]
  },
  {
   "cell_type": "markdown",
   "metadata": {},
   "source": [
    "# 1. Penn treebank\n",
    "\n",
    "## Exercise 1.1 (40 points, 5 points per subquestion )\n",
    "\n",
    "You are provided with a corpus containing words with their Part-of-Speech tags (POS-tags for short). The format is\n",
    "**word|POS** (one sentence per line) and the file name is **sec02-22.gold.tagged**. This data is extracted from Sections 02-22 from the Penn Treebank: these sections are most commonly used for training statistical models like POS-taggers and parsers.\n",
    "\n",
    "**[Hint]** **Figure 10.1** in chapter 10 of Jurafsky and Martin (see [here](https://web.stanford.edu/~jurafsky/slp3/10.pdf)) holds a summary of the 45 POS-tags used in the Penn Treebank tagset together with their meaning and some examples. (If you are keen on learning more about the word-classes represented POS-tags and their definitions you can do a litle reading ahead for next week and already have a look at section 10.1 of the same chapter).\n",
    "\n",
    "**[Hint]** the Python library [collections](https://docs.python.org/2/library/collections.html) has an object called `Counter` which will come in handy for this exercise."
   ]
  },
  {
   "cell_type": "markdown",
   "metadata": {},
   "source": [
    " "
   ]
  },
  {
   "cell_type": "markdown",
   "metadata": {},
   "source": [
    "**(a)** How large is the corpus? (i.e. how **many tokens**). And what is the size of the **vocabulary** used in this corpus? \n",
    "\n",
    "Estimate the vocabulary size both by **lowercasing** all the words as well as by leaving the words in their **original orthography**. What is an advantage of lowercasing all the words in your corpus? What is a notable downside? **Give examples.**"
   ]
  },
  {
   "cell_type": "code",
   "execution_count": 2,
   "metadata": {},
   "outputs": [
    {
     "name": "stdout",
     "output_type": "stream",
     "text": [
      "Total number of tokens in corpus: 929552\n",
      "Vocabulary size: 44210\n",
      "Vocabulary size in lowercase: 39384\n"
     ]
    }
   ],
   "source": [
    "def basic_analysis(file_name):\n",
    "\n",
    "    file = open(file_name,\"r+\")\n",
    "\n",
    "    normal_text = file.read().split()\n",
    "\n",
    "    corpus, tags = [], []\n",
    "    for word in normal_text:\n",
    "\n",
    "        #if \"|\" not in word:\n",
    "        #    print(\"Word without tag!!\")\n",
    "        #    break\n",
    "        #if word.split('|')[1] == \"\":\n",
    "        #    print(\"Empty tag!!\")\n",
    "        #    break\n",
    "\n",
    "        corpus.append(word.split('|')[0])\n",
    "        tags.append(word.split('|')[1])\n",
    "\n",
    "    vocab = Counter(corpus)\n",
    "    corpus_lowercase = [word.lower() for word in vocab]\n",
    "    vocab_lowercase = Counter(corpus_lowercase)\n",
    "\n",
    "    return normal_text, corpus, tags, vocab, vocab_lowercase\n",
    "\n",
    "normal_text, corpus, tags, vocab, vocab_lowercase = basic_analysis(\"sec02-21.gold.tagged\")\n",
    "print(\"Total number of tokens in corpus: \" + str(len(corpus)))\n",
    "print(\"Vocabulary size: \" + str(len(vocab)))\n",
    "print(\"Vocabulary size in lowercase: \" + str(len(vocab_lowercase)))"
   ]
  },
  {
   "cell_type": "markdown",
   "metadata": {},
   "source": [
    "YOUR ANSWER HERE "
   ]
  },
  {
   "cell_type": "markdown",
   "metadata": {},
   "source": [
    "An advantage of words in lower case is that words that start a sentence (first letter in capital) are now counted as the same word. An disadvantage is that you can no longer distinguish between meaning of words. For instance, moon or Moon have different contextual meanings, while they are the same word"
   ]
  },
  {
   "cell_type": "markdown",
   "metadata": {},
   "source": [
    "------\n",
    "For the rest of this exercise you should use the **original orthography** of the data when answering the questions.\n",
    "\n",
    "------\n"
   ]
  },
  {
   "cell_type": "markdown",
   "metadata": {},
   "source": [
    "**(b)** Plot a graph of word frequency versus rank of a word, in this corpus. Does this corpus obey **Zipf’s law**?"
   ]
  },
  {
   "cell_type": "code",
   "execution_count": 3,
   "metadata": {
    "scrolled": true
   },
   "outputs": [
    {
     "data": {
      "image/png": "[encoded data removed]",
      "text/plain": [
       "<matplotlib.figure.Figure at 0x211118c3278>"
      ]
     },
     "metadata": {},
     "output_type": "display_data"
    }
   ],
   "source": [
    "rank = np.linspace(0,len(list(vocab)),len(list(vocab)))\n",
    "occurrence = sorted(list(vocab.values()), reverse=True)\n",
    "\n",
    "plt.loglog(rank, occurrence)\n",
    "plt.xlabel(\"Rank\")\n",
    "plt.ylabel(\"Occurrence\")\n",
    "plt.show()"
   ]
  },
  {
   "cell_type": "markdown",
   "metadata": {},
   "source": [
    "**(c)** What are the **20 most common words** in the corpus and how often do they occur? What is the 50th most common word, the 100th and the 1000th and how often do they occur?"
   ]
  },
  {
   "cell_type": "code",
   "execution_count": 4,
   "metadata": {},
   "outputs": [
    {
     "name": "stdout",
     "output_type": "stream",
     "text": [
      "The 20 most common words are:\n",
      "[(',', 48310), ('the', 40839), ('.', 38798), ('of', 22782), ('to', 22056), ('a', 19171), ('and', 15906), ('in', 15085), (\"'s\", 9249), ('that', 7951), ('for', 7912), ('$', 7125), ('is', 6893), ('The', 6791), ('said', 5597), ('on', 5112), ('%', 4871), ('it', 4639), ('by', 4450), ('from', 4437)]\n",
      "The 50th most common word is: \"had\" with value: 1755\n",
      "The 100th most common word is: \"A\" with value: 860\n",
      "The 1000th most common word is: \"Mrs.\" with value: 109\n"
     ]
    }
   ],
   "source": [
    "#TODO: Pretty print the first printline:\n",
    "print(\"The 20 most common words are:\\n\" + str(list(vocab.most_common(20))))\n",
    "print(\"The 50th most common word is: \\\"\" + str(vocab.most_common()[49][0]) + \"\\\" with value: \" + str(vocab.most_common()[49][1]))\n",
    "print(\"The 100th most common word is: \\\"\" + str(vocab.most_common()[99][0]) + \"\\\" with value: \" + str(vocab.most_common()[99][1]))\n",
    "print(\"The 1000th most common word is: \\\"\" + str(vocab.most_common()[999][0]) + \"\\\" with value: \" + str(vocab.most_common()[999][1]))\n"
   ]
  },
  {
   "cell_type": "markdown",
   "metadata": {},
   "source": [
    "**(d)** How many different Part-of-speech tags are present in the corpus?"
   ]
  },
  {
   "cell_type": "code",
   "execution_count": 5,
   "metadata": {
    "scrolled": true
   },
   "outputs": [
    {
     "name": "stdout",
     "output_type": "stream",
     "text": [
      "There are 48 different POS tags in the corpus\n"
     ]
    }
   ],
   "source": [
    "pos_only = []\n",
    "for word in normal_text:\n",
    "    pos_only.append(word.split('|')[1])\n",
    "    \n",
    "my_pos_vocab = Counter(pos_only)\n",
    "\n",
    "print(\"There are \" + str(len(my_pos_vocab)) + \" different POS tags in the corpus\")"
   ]
  },
  {
   "cell_type": "markdown",
   "metadata": {},
   "source": [
    "**(e)** Print a list of the **10 most commonly occurring POS tags** in the data. For each of these POS tags, what are the **3 most common words** that belong to that class?"
   ]
  },
  {
   "cell_type": "code",
   "execution_count": 6,
   "metadata": {},
   "outputs": [
    {
     "name": "stdout",
     "output_type": "stream",
     "text": [
      "The 10 most common POS tags are: [('NN', 132134), ('IN', 99413), ('NNP', 90711), ('DT', 82147), ('JJ', 59643), ('NNS', 59332), (',', 48314), ('.', 39252), ('CD', 36148), ('RB', 30232)]\n",
      "\n",
      "Three most common words for tag: \"NN\"\t are \t[('%|NN', 4866), ('company|NN', 2457), ('year|NN', 2220)]\n",
      "Three most common words for tag: \"IN\"\t are \t[('of|IN', 22778), ('in|IN', 14852), ('for|IN', 7907)]\n",
      "Three most common words for tag: \"NNP\"\t are \t[('Mr.|NNP', 4147), ('U.S.|NNP', 1577), ('Corp.|NNP', 1186)]\n",
      "Three most common words for tag: \"DT\"\t are \t[('the|DT', 40831), ('a|DT', 19151), ('The|DT', 6753)]\n",
      "Three most common words for tag: \"JJ\"\t are \t[('new|JJ', 1396), ('other|JJ', 1298), ('last|JJ', 990)]\n",
      "Three most common words for tag: \"NNS\"\t are \t[('years|NNS', 1164), ('shares|NNS', 1128), ('sales|NNS', 939)]\n",
      "Three most common words for tag: \",\"\t are \t[(',|,', 48310), ('an|,', 1), ('underwriters|,', 1)]\n",
      "Three most common words for tag: \".\"\t are \t[('.|.', 38798), ('?|.', 392), ('!|.', 62)]\n",
      "Three most common words for tag: \"CD\"\t are \t[('million|CD', 4355), ('billion|CD', 1780), ('one|CD', 1203)]\n",
      "Three most common words for tag: \"RB\"\t are \t[(\"n't|RB\", 3211), ('also|RB', 1420), ('not|RB', 1287)]\n"
     ]
    }
   ],
   "source": [
    "print(\"The 10 most common POS tags are: \" + str(list(my_pos_vocab.most_common(10))) + \"\\n\")\n",
    "\n",
    "top_n_POS_list = my_pos_vocab.most_common(10)\n",
    "for POS in top_n_POS_list:\n",
    "    POS_list = []\n",
    "    for word in normal_text:\n",
    "        if word.split('|')[1] == str(POS[0]):\n",
    "            POS_list.append(word)\n",
    "    POS_list = Counter(POS_list)\n",
    "    print(\"Three most common words for tag: \\\"\" + str(POS[0]) + \"\\\"\\t are \\t\" + str(POS_list.most_common(3)))"
   ]
  },
  {
   "cell_type": "markdown",
   "metadata": {},
   "source": [
    "**(f)** A single word may have several POS-tags. For example, *record* can be a both a **noun** *(buy a record)* or a **verb** *(record a lecture)*. This make POS-tags extremely useful for **disambiguation**.\n",
    "\n",
    "What percentage of the words in the vocabulary is **ambiguous**? (i.e. have more than one POS tag?) What are the 10 most frequent combinations of POS tags in the case of ambitguity? Which words are **most ambiguous**? Give some of them."
   ]
  },
  {
   "cell_type": "code",
   "execution_count": 7,
   "metadata": {
    "scrolled": true
   },
   "outputs": [
    {
     "name": "stdout",
     "output_type": "stream",
     "text": [
      "5955\n",
      "Total number of ambiguous words: 5955\n",
      "Percentage of ambiguous words in vocabulary: 13.47%\n",
      "4 of the most ambiguous words:\n",
      "[('set', 7), ('down', 7), ('many', 7), ('open', 7)]\n"
     ]
    }
   ],
   "source": [
    "word_tags_dict = defaultdict(set)\n",
    "word_tags_list = list(zip(corpus, tags))\n",
    "\n",
    "for word, tag in word_tags_list:\n",
    "    word_tags_dict[word].add(tag)\n",
    "\n",
    "ambig_list, ambig_numb = {}, {}\n",
    "for word in list(word_tags_dict):\n",
    "    if len(word_tags_dict[word]) > 1:\n",
    "        ambig_list[word] = word_tags_dict[word]\n",
    "    ambig_numb[word] = len(word_tags_dict[word])\n",
    "\n",
    "print(len(ambig_list))\n",
    "    \n",
    "print(\"Total number of ambiguous words: \" + str((len(ambig_list))))\n",
    "print(\"Percentage of ambiguous words in vocabulary: \" + str(round(len(ambig_list)/len(vocab) * 100, 2)) + \"%\")\n",
    "\n",
    "print(\"4 of the most ambiguous words:\")\n",
    "ambig_numb = sorted(ambig_numb.items(), key=lambda x:x[1], reverse=True)\n",
    "print(ambig_numb[:4])"
   ]
  },
  {
   "cell_type": "markdown",
   "metadata": {},
   "source": [
    "**(g)**  Print some of these words with their multiple POS-tags. Do you **understand the ambiguity**? Use figure 10.1 mentioned above to interpret the POS-tags."
   ]
  },
  {
   "cell_type": "code",
   "execution_count": 8,
   "metadata": {},
   "outputs": [
    {
     "name": "stdout",
     "output_type": "stream",
     "text": [
      "\"vs.\" has tags: {'IN', 'NN', 'CC', 'FW', 'JJ'}\n",
      "\"stock\" has tags: {'NN', 'JJ', 'VB'}\n",
      "\"upside\" has tags: {'NN', 'JJ', 'RB'}\n",
      "\"overwhelming\" has tags: {'VBG', 'JJ'}\n",
      "\"trains\" has tags: {'VBZ', 'NNS'}\n"
     ]
    }
   ],
   "source": [
    "import random\n",
    "\n",
    "random.seed(5)\n",
    "\n",
    "for word in range(5):\n",
    "    pick = random.choice(list(ambig_list))\n",
    "    print(\"\\\"\" + str(pick) + \"\\\" has tags: \" + str(ambig_list[pick]))"
   ]
  },
  {
   "cell_type": "markdown",
   "metadata": {},
   "source": [
    "**(h)** Ambiguous words do not account for a great percentage of the vocabulary. Yet they are among the most commonly occuring words of the English language. What **percentage of the dataset is ambiguous**?"
   ]
  },
  {
   "cell_type": "code",
   "execution_count": 9,
   "metadata": {},
   "outputs": [
    {
     "name": "stdout",
     "output_type": "stream",
     "text": [
      "5955\n",
      "Total amount of ambiguous words in dataset: 511988\n",
      "Total percentage of ambiguous words in dataset: 55.079%\n"
     ]
    }
   ],
   "source": [
    "total_ambig_occurrences = 0\n",
    "\n",
    "print(len(list(ambig_list)))\n",
    "\n",
    "for word in list(ambig_list):\n",
    "    total_ambig_occurrences += vocab[word]\n",
    "    \n",
    "print(\"Total amount of ambiguous words in dataset: \" + str(total_ambig_occurrences))\n",
    "print(\"Total percentage of ambiguous words in dataset: \" + str(round(total_ambig_occurrences/len(corpus) * 100, 3)) + \"%\")\n"
   ]
  },
  {
   "cell_type": "markdown",
   "metadata": {},
   "source": [
    "## Exercise 1.2 (10 points, 5 per subquestion)"
   ]
  },
  {
   "cell_type": "markdown",
   "metadata": {},
   "source": [
    "You are also provided with another file called **sec00.gold.tagged**. \n",
    "Section 00 of the Penn Treebank is typically used as development data."
   ]
  },
  {
   "cell_type": "markdown",
   "metadata": {},
   "source": [
    "**(a)** How many **unseen words** are present in the development data (i.e., words that have not occurred in the training data)?"
   ]
  },
  {
   "cell_type": "code",
   "execution_count": 10,
   "metadata": {
    "scrolled": false
   },
   "outputs": [
    {
     "name": "stdout",
     "output_type": "stream",
     "text": [
      "The number of words that are not occurring in \"sec02-21.gold.tagged\": 1288\n"
     ]
    }
   ],
   "source": [
    "normal_text2, corpus2, tags2, vocab2, vocab_lowercase2 = basic_analysis(\"sec00.gold.tagged\")\n",
    "\n",
    "unseen_words = []\n",
    "for word in vocab2:\n",
    "    if word not in vocab:\n",
    "        unseen_words.append(word)\n",
    "\n",
    "print(\"The number of words that are not occurring in \\\"sec02-21.gold.tagged\\\": \" + str(len(unseen_words)))"
   ]
  },
  {
   "cell_type": "markdown",
   "metadata": {},
   "source": [
    "**(b)** What are the three **POS tag categories** that the most **unseen words** belong to?"
   ]
  },
  {
   "cell_type": "code",
   "execution_count": 11,
   "metadata": {
    "scrolled": true
   },
   "outputs": [
    {
     "name": "stdout",
     "output_type": "stream",
     "text": [
      "Top three POS tags most unseen words belong to: [('NNP', 815), ('JJ', 258), ('NN', 210)]\n"
     ]
    }
   ],
   "source": [
    "word_tags_list2 = list(zip(corpus2, tags2))\n",
    "\n",
    "unseen_tags = []\n",
    "for tup in word_tags_list2:\n",
    "    if tup[0] in unseen_words:\n",
    "        unseen_tags.append(tup[1])\n",
    "\n",
    "unseen_tags = Counter(unseen_tags)\n",
    "print(\"Top three POS tags most unseen words belong to: \" + str(unseen_tags.most_common(3)))"
   ]
  },
  {
   "cell_type": "markdown",
   "metadata": {},
   "source": [
    "# 2. Language Models\n",
    "\n",
    "This part of the lab will be covered in the Wednesday lecture. If you have prior exposure to NLP, go ahead and finish this part! If you don't, start anyway, and this part will be clear after the lecture. \n",
    "\n",
    "Reference **chapter 4** of J&M *Language Modeling with N-Grams*. \n",
    "\n",
    "----------\n",
    "\n",
    "Models that assign **probabilities** to **sequences of words** are called language **language\n",
    "modelels** or **LMs**. The simplest model that assigns probabilities to sentences and sequences of words is the **N-gram** model.\n",
    "\n",
    "Recall that an *N*-gram language model uses **conditional probabilities** of the form\n",
    "    \n",
    "$$P(w_k \\mid w_{k-N+1} \\dots w_{k-1})$$\n",
    "\n",
    "to **approximate** the full **joint probability**\n",
    "\n",
    "$$P(w_1 \\dots w_n)$$\n",
    "\n",
    "of a sequence of words $w_1 \\dots w_n$.\n",
    "\n",
    "The easiest way of obtaining estimates for the probabilities $P(w_k \\mid w_{k-N+1} \\dots w_{k-1})$ is to use the **maximum likelihood estimate** or **MLE**, a widely used statistical estimation method ([read more]((https://en.wikipedia.org/wiki/Maximum_likelihood_estimation)). You count and normalize:\n",
    "\n",
    "$$P_{MLE}(w_k \\mid w_{k-N+1} \\dots w_{k-1}) = \\frac{C(w_{k-N+1} \\dots w_{k-1} w_k)}{C(w_{k-N+1} \\dots w_{k-1})}.$$\n",
    "\n",
    "\n",
    "## Exercise 2.1 (25 points)\n",
    "\n",
    "**(a) ** Complete the function `train_ngram` so that you can train a count-based $N$-gram language model on the data found in `data/ted-train.txt` and train this for $N=2,3,4$. **15 points**\n",
    "\n",
    "**(b) ** Extend the function above so that it accepts a parameter `k` for optional add-$k$ smoothing. **10 points**\n",
    "\n",
    "**[Datastructure hint]** If you store the smoothed language in a naive manner (that is, to store *all* the numbers separately) your datastructure will get huge! If $V$ is the vocabulary then the smoothed bigram model assigns probabilities to $|V|^2$ entries. If $|V|$ is around 80k, the naive way requires you to store more than 64 billion floats. Yet almost all of these are actually just $P(w_n|w_{n-1}) = \\frac{k}{N + k|V|}$, with $k$ the value with which you smooth and $N=C(w_{n-1})$. Think about how you use this fact to make your model work in practice."
   ]
  },
  {
   "cell_type": "markdown",
   "metadata": {},
   "source": [
    "**[Python hint]** The `collections` library has another useful datastructure: the `defaultdict`. Some example uses:"
   ]
  },
  {
   "cell_type": "code",
   "execution_count": 12,
   "metadata": {},
   "outputs": [
    {
     "data": {
      "text/plain": [
       "0.0"
      ]
     },
     "execution_count": 12,
     "metadata": {},
     "output_type": "execute_result"
    }
   ],
   "source": [
    "from collections import defaultdict\n",
    "\n",
    "d = defaultdict(float)\n",
    "d[\"new key\"]"
   ]
  },
  {
   "cell_type": "markdown",
   "metadata": {},
   "source": [
    "Compare that to an ordinary dictionary:"
   ]
  },
  {
   "cell_type": "code",
   "execution_count": 13,
   "metadata": {},
   "outputs": [
    {
     "ename": "KeyError",
     "evalue": "'new key'",
     "output_type": "error",
     "traceback": [
      "\u001b[1;31m---------------------------------------------------------------------------\u001b[0m",
      "\u001b[1;31mKeyError\u001b[0m                                  Traceback (most recent call last)",
      "\u001b[1;32m<ipython-input-13-c19a7fd7bc46>\u001b[0m in \u001b[0;36m<module>\u001b[1;34m()\u001b[0m\n\u001b[0;32m      1\u001b[0m \u001b[0md\u001b[0m \u001b[1;33m=\u001b[0m \u001b[0mdict\u001b[0m\u001b[1;33m(\u001b[0m\u001b[1;33m)\u001b[0m\u001b[1;33m\u001b[0m\u001b[0m\n\u001b[1;32m----> 2\u001b[1;33m \u001b[0md\u001b[0m\u001b[1;33m[\u001b[0m\u001b[1;34m\"new key\"\u001b[0m\u001b[1;33m]\u001b[0m\u001b[1;33m\u001b[0m\u001b[0m\n\u001b[0m",
      "\u001b[1;31mKeyError\u001b[0m: 'new key'"
     ]
    }
   ],
   "source": [
    "d = dict()\n",
    "d[\"new key\"]"
   ]
  },
  {
   "cell_type": "markdown",
   "metadata": {},
   "source": [
    "Other datatypes as `default_factory`:"
   ]
  },
  {
   "cell_type": "code",
   "execution_count": 14,
   "metadata": {},
   "outputs": [
    {
     "data": {
      "text/plain": [
       "0"
      ]
     },
     "execution_count": 14,
     "metadata": {},
     "output_type": "execute_result"
    }
   ],
   "source": [
    "d = defaultdict(int)\n",
    "d[\"new key\"]"
   ]
  },
  {
   "cell_type": "code",
   "execution_count": 15,
   "metadata": {},
   "outputs": [
    {
     "data": {
      "text/plain": [
       "[]"
      ]
     },
     "execution_count": 15,
     "metadata": {},
     "output_type": "execute_result"
    }
   ],
   "source": [
    "d = defaultdict(list)\n",
    "d[\"new key\"]"
   ]
  },
  {
   "cell_type": "markdown",
   "metadata": {},
   "source": [
    "Converting an already existing `dict`:"
   ]
  },
  {
   "cell_type": "code",
   "execution_count": 16,
   "metadata": {},
   "outputs": [
    {
     "name": "stdout",
     "output_type": "stream",
     "text": [
      "value\n",
      "0.0\n"
     ]
    }
   ],
   "source": [
    "d1 = {k: \"value\" for k in range(1, 11)}\n",
    "d = defaultdict(float, d1) # convert it to a defaultdict\n",
    "print(d[5])\n",
    "print(d[100])"
   ]
  },
  {
   "cell_type": "markdown",
   "metadata": {},
   "source": [
    "This doesn't work:"
   ]
  },
  {
   "cell_type": "code",
   "execution_count": 17,
   "metadata": {},
   "outputs": [
    {
     "ename": "TypeError",
     "evalue": "first argument must be callable or None",
     "output_type": "error",
     "traceback": [
      "\u001b[1;31m---------------------------------------------------------------------------\u001b[0m",
      "\u001b[1;31mTypeError\u001b[0m                                 Traceback (most recent call last)",
      "\u001b[1;32m<ipython-input-17-89e9c9b71b5c>\u001b[0m in \u001b[0;36m<module>\u001b[1;34m()\u001b[0m\n\u001b[1;32m----> 1\u001b[1;33m \u001b[0md\u001b[0m \u001b[1;33m=\u001b[0m \u001b[0mdefaultdict\u001b[0m\u001b[1;33m(\u001b[0m\u001b[1;36m10\u001b[0m\u001b[1;33m)\u001b[0m\u001b[1;33m\u001b[0m\u001b[0m\n\u001b[0m",
      "\u001b[1;31mTypeError\u001b[0m: first argument must be callable or None"
     ]
    }
   ],
   "source": [
    "d = defaultdict(10)"
   ]
  },
  {
   "cell_type": "markdown",
   "metadata": {},
   "source": [
    "Use a `lambda` to make the number `10` `callable`\":"
   ]
  },
  {
   "cell_type": "code",
   "execution_count": 18,
   "metadata": {},
   "outputs": [
    {
     "name": "stdout",
     "output_type": "stream",
     "text": [
      "10\n",
      "10\n",
      "defaultdict(<function <lambda> at 0x0000021129C40840>, {'new key': 10, 'Another new key': 10})\n"
     ]
    }
   ],
   "source": [
    "d = defaultdict(lambda: 10)\n",
    "#d[\"new key\"]\n",
    "print(d[\"new key\"])\n",
    "print(d[\"Another new key\"])\n",
    "print(d)"
   ]
  },
  {
   "cell_type": "code",
   "execution_count": 19,
   "metadata": {},
   "outputs": [
    {
     "name": "stdout",
     "output_type": "stream",
     "text": [
      "defaultdict(<function <lambda> at 0x0000021129C406A8>, {'new key': defaultdict(<class 'float'>, {}), 'new new key': defaultdict(<class 'float'>, {})})\n"
     ]
    }
   ],
   "source": [
    "d = defaultdict(lambda: defaultdict(float))\n",
    "d[\"new key\"]\n",
    "d[\"new new key\"]\n",
    "print(d)"
   ]
  },
  {
   "cell_type": "markdown",
   "metadata": {},
   "source": [
    "Clever use of a `defaultdict` can be the solution to the problem of data-storing in a smoothing $N$-gram pointed out above:\n",
    "    \n",
    "    ngram = defaultdict(lambda: k/(N+kV), ngram)"
   ]
  },
  {
   "cell_type": "markdown",
   "metadata": {},
   "source": [
    "The following function is given:"
   ]
  },
  {
   "cell_type": "code",
   "execution_count": 155,
   "metadata": {
    "collapsed": true
   },
   "outputs": [],
   "source": [
    "train_file = \"ted-train-test.txt\"\n",
    "\n",
    "def read(fname, max_lines=np.inf):\n",
    "    \"\"\"\n",
    "    Reads in the data in fname and returns it as\n",
    "    one long list of words. Also returns a vocabulary in\n",
    "    the form of a word2index and index2word dictionary.\n",
    "    \"\"\"\n",
    "    data = []\n",
    "    # w2i will automatically keep a counter to asign to new words\n",
    "    w2i = defaultdict(lambda: len(w2i))\n",
    "    i2w = dict()\n",
    "    start = \"<s>\"\n",
    "    end = \"</s>\"\n",
    "    \n",
    "    with open(fname, \"r\",encoding='utf8') as fh:\n",
    "        for k, line in enumerate(fh):\n",
    "            if k > max_lines:\n",
    "                break\n",
    "            words = line.strip().split()\n",
    "            # assign an index to each word\n",
    "            for w in words:\n",
    "                i2w[w2i[w]] = w # trick\n",
    "            \n",
    "            sent = [start] + words + [end]\n",
    "            data.append(sent)\n",
    "\n",
    "    return data, w2i, i2w"
   ]
  },
  {
   "cell_type": "code",
   "execution_count": 371,
   "metadata": {},
   "outputs": [
    {
     "name": "stdout",
     "output_type": "stream",
     "text": [
      "defaultdict(<function train_ngram.<locals>.<lambda> at 0x0000021130E1ED08>, {(',', 'real'): defaultdict(<class 'float'>, {'solution': 0.015748031496062992}), (':', 'exploration'): defaultdict(<class 'float'>, {'and': 0.015748031496062992}), ('of', 'a'): defaultdict(<class 'float'>, {'good': 0.015748031496062992}), ('</s>', '<s>'): defaultdict(<class 'float'>, {'In': 0.013986013986013986, 'The': 0.013986013986013986, 'Consider': 0.013986013986013986, 'Gone': 0.013986013986013986, 'A': 0.013986013986013986, 'Everybody': 0.013986013986013986, 'Both': 0.013986013986013986, 'Facit': 0.02097902097902098, 'But': 0.013986013986013986, 'They': 0.013986013986013986, 'To': 0.02097902097902098, 'I': 0.013986013986013986, 'and': 0.013986013986013986, 'Let': 0.013986013986013986, 'And': 0.013986013986013986}), ('<s>', 'Facit'): defaultdict(<class 'float'>, {'was': 0.015625, 'did': 0.015625}), ('remember', 'them'): defaultdict(<class 'float'>, {'.': 0.015748031496062992}), ('the', 'Facit'): defaultdict(<class 'float'>, {'engineers': 0.015625, 'story': 0.015625}), ('the', 'best'): defaultdict(<class 'float'>, {'mechanical': 0.015748031496062992}), ('came', 'along'): defaultdict(<class 'float'>, {'?': 0.015748031496062992}), ('fail', ':'): defaultdict(<class 'float'>, {'they': 0.015748031496062992}), ('<s>', 'In'): defaultdict(<class 'float'>, {'six': 0.015748031496062992}), ('exploration', 'can'): defaultdict(<class 'float'>, {'go': 0.015748031496062992}), ('what', 'did'): defaultdict(<class 'float'>, {'Facit': 0.015748031496062992}), ('the', 'real'): defaultdict(<class 'float'>, {',': 0.015748031496062992}), ('companies', 'fail'): defaultdict(<class 'float'>, {':': 0.015748031496062992}), ('European', 'biotech'): defaultdict(<class 'float'>, {'company': 0.015748031496062992}), ('Gone', '.'): defaultdict(<class 'float'>, {'</s>': 0.015748031496062992}), ('activities', ':'): defaultdict(<class 'float'>, {'exploration': 0.015748031496062992}), ('<s>', 'I'): defaultdict(<class 'float'>, {\"'m\": 0.015748031496062992}), ('out', 'the'): defaultdict(<class 'float'>, {'balance': 0.015748031496062992}), ('the', 'Swedish'): defaultdict(<class 'float'>, {'forest': 0.015748031496062992}), ('but', 'it'): defaultdict(<class 'float'>, {'can': 0.015748031496062992}), ('a', 'good'): defaultdict(<class 'float'>, {'thing': 0.015748031496062992}), ('Facit', '.'): defaultdict(<class 'float'>, {'</s>': 0.015748031496062992}), (',', 'I'): defaultdict(<class 'float'>, {'worked': 0.015748031496062992}), ('the', 'balance'): defaultdict(<class 'float'>, {'between': 0.015748031496062992}), ('alongside', 'a'): defaultdict(<class 'float'>, {'European': 0.015748031496062992}), ('me', ','): defaultdict(<class 'float'>, {'the': 0.015748031496062992}), ('back', ','): defaultdict(<class 'float'>, {'I': 0.015748031496062992}), ('small', 'electronic'): defaultdict(<class 'float'>, {'calculators': 0.015748031496062992}), ('new', '.'): defaultdict(<class 'float'>, {'</s>': 0.015748031496062992}), ('call', 'them'): defaultdict(<class 'float'>, {'OncoSearch': 0.015748031496062992}), ('I', \"'m\"): defaultdict(<class 'float'>, {'actually': 0.015748031496062992}), ('irony', 'about'): defaultdict(<class 'float'>, {'the': 0.015748031496062992}), ('Everybody', 'used'): defaultdict(<class 'float'>, {'them': 0.015748031496062992}), ('quality', 'growth'): defaultdict(<class 'float'>, {'is': 0.015748031496062992}), ('years', 'back'): defaultdict(<class 'float'>, {',': 0.015748031496062992}), ('are', 'necessary'): defaultdict(<class 'float'>, {',': 0.015748031496062992}), (',', 'they'): defaultdict(<class 'float'>, {'went': 0.015748031496062992}), ('thing', '.'): defaultdict(<class 'float'>, {'</s>': 0.015748031496062992}), ('OncoSearch', '.'): defaultdict(<class 'float'>, {'</s>': 0.015748031496062992}), ('and', 'they'): defaultdict(<class 'float'>, {'were': 0.015625, 'made': 0.015625}), ('They', 'were'): defaultdict(<class 'float'>, {'born': 0.015748031496062992}), ('in', 'Japan'): defaultdict(<class 'float'>, {'that': 0.015748031496062992}), ('electronic', 'calculator'): defaultdict(<class 'float'>, {'came': 0.015748031496062992}), ('necessary', ','): defaultdict(<class 'float'>, {'but': 0.015748031496062992}), ('<s>', 'To'): defaultdict(<class 'float'>, {'me': 0.0234375}), ('them', 'OncoSearch'): defaultdict(<class 'float'>, {'.': 0.015748031496062992}), ('can', 'be'): defaultdict(<class 'float'>, {'too': 0.015748031496062992}), ('or', 'they'): defaultdict(<class 'float'>, {'only': 0.015748031496062992}), ('reasons', 'companies'): defaultdict(<class 'float'>, {'fail': 0.015748031496062992}), ('is', 'hearing'): defaultdict(<class 'float'>, {'about': 0.015748031496062992}), ('They', 'continued'): defaultdict(<class 'float'>, {'doing': 0.015748031496062992}), ('used', 'them'): defaultdict(<class 'float'>, {'.': 0.015748031496062992}), ('to', 'quality'): defaultdict(<class 'float'>, {'growth': 0.015748031496062992}), ('Japan', 'that'): defaultdict(<class 'float'>, {'they': 0.015748031496062992}), (',', 'or'): defaultdict(<class 'float'>, {'they': 0.015748031496062992}), ('along', '?'): defaultdict(<class 'float'>, {'They': 0.015748031496062992}), ('what', \"'s\"): defaultdict(<class 'float'>, {'new': 0.015748031496062992}), ('is', 'figuring'): defaultdict(<class 'float'>, {'out': 0.015748031496062992}), ('exactly', 'the'): defaultdict(<class 'float'>, {'same': 0.015748031496062992}), ('they', 'were'): defaultdict(<class 'float'>, {'gone': 0.015748031496062992}), ('old', 'enough'): defaultdict(<class 'float'>, {'to': 0.015748031496062992}), ('their', 'calculators'): defaultdict(<class 'float'>, {'.': 0.015748031496062992}), ('calculators', '.'): defaultdict(<class 'float'>, {'</s>': 0.015748031496062992}), ('Facit', 'did'): defaultdict(<class 'float'>, {'too': 0.015748031496062992}), ('had', 'bought'): defaultdict(<class 'float'>, {'cheap': 0.015748031496062992}), ('calculator', 'came'): defaultdict(<class 'float'>, {'along': 0.015748031496062992}), ('do', 'what'): defaultdict(<class 'float'>, {\"'s\": 0.015748031496062992}), ('Consider', 'Facit'): defaultdict(<class 'float'>, {'.': 0.015748031496062992}), (\"'s\", 'new'): defaultdict(<class 'float'>, {'.': 0.015748031496062992}), ('wild', ','): defaultdict(<class 'float'>, {'too': 0.015748031496062992}), ('made', 'the'): defaultdict(<class 'float'>, {'best': 0.015748031496062992}), ('gone', '.'): defaultdict(<class 'float'>, {'</s>': 0.015748031496062992}), ('more', 'of'): defaultdict(<class 'float'>, {'the': 0.015748031496062992}), ('Facit', 'engineers'): defaultdict(<class 'float'>, {',': 0.015748031496062992}), ('few', 'years'): defaultdict(<class 'float'>, {'back': 0.015748031496062992}), ('good', 'thing'): defaultdict(<class 'float'>, {'.': 0.015748031496062992}), ('too', 'much'): defaultdict(<class 'float'>, {'exploitation': 0.015625, 'of': 0.015625}), ('The', 'company'): defaultdict(<class 'float'>, {'was': 0.015748031496062992}), ('forest', ','): defaultdict(<class 'float'>, {'and': 0.015748031496062992}), ('they', 'went'): defaultdict(<class 'float'>, {'from': 0.015748031496062992}), ('solution', 'to'): defaultdict(<class 'float'>, {'quality': 0.015748031496062992}), ('balance', 'between'): defaultdict(<class 'float'>, {'two': 0.015748031496062992}), ('me', 'the'): defaultdict(<class 'float'>, {'real': 0.015748031496062992}), ('six', 'months'): defaultdict(<class 'float'>, {',': 0.015748031496062992}), ('Facit', 'was'): defaultdict(<class 'float'>, {'a': 0.015748031496062992}), ('them', '.'): defaultdict(<class 'float'>, {'</s>': 0.0234375}), (\"'s\", 'call'): defaultdict(<class 'float'>, {'them': 0.015748031496062992}), ('In', 'six'): defaultdict(<class 'float'>, {'months': 0.015748031496062992}), ('.', '</s>'): defaultdict(<class 'float'>, {'<s>': 0.1258741258741259}), ('a', 'European'): defaultdict(<class 'float'>, {'biotech': 0.015748031496062992}), ('company', 'was'): defaultdict(<class 'float'>, {'brilliant': 0.015748031496062992}), ('about', 'the'): defaultdict(<class 'float'>, {'Facit': 0.0234375}), ('<s>', 'Everybody'): defaultdict(<class 'float'>, {'used': 0.015748031496062992}), ('revenue', '.'): defaultdict(<class 'float'>, {'</s>': 0.015748031496062992}), ('continued', 'doing'): defaultdict(<class 'float'>, {'exactly': 0.015748031496062992}), ('only', 'do'): defaultdict(<class 'float'>, {'more': 0.015625, 'what': 0.015625}), ('maximum', 'revenue'): defaultdict(<class 'float'>, {'.': 0.015748031496062992}), (',', 'and'): defaultdict(<class 'float'>, {'they': 0.015748031496062992}), ('best', 'mechanical'): defaultdict(<class 'float'>, {'calculators': 0.015748031496062992}), ('do', 'more'): defaultdict(<class 'float'>, {'of': 0.015748031496062992}), ('<s>', 'The'): defaultdict(<class 'float'>, {'company': 0.015748031496062992}), ('<s>', 'They'): defaultdict(<class 'float'>, {'were': 0.015748031496062992}), ('go', 'wild'): defaultdict(<class 'float'>, {',': 0.015748031496062992}), ('to', 'remember'): defaultdict(<class 'float'>, {'them': 0.015748031496062992}), ('can', 'go'): defaultdict(<class 'float'>, {'wild': 0.015748031496062992}), ('<s>', 'and'): defaultdict(<class 'float'>, {'they': 0.015748031496062992}), ('who', 'had'): defaultdict(<class 'float'>, {'bought': 0.015748031496062992}), ('much', 'of'): defaultdict(<class 'float'>, {'a': 0.015748031496062992}), ('a', 'fantastic'): defaultdict(<class 'float'>, {'company': 0.015748031496062992}), (\"'m\", 'actually'): defaultdict(<class 'float'>, {'old': 0.015748031496062992}), ('doing', 'exactly'): defaultdict(<class 'float'>, {'the': 0.015748031496062992}), ('<s>', 'Let'): defaultdict(<class 'float'>, {\"'s\": 0.015748031496062992}), ('deep', 'in'): defaultdict(<class 'float'>, {'the': 0.015748031496062992}), ('did', 'Facit'): defaultdict(<class 'float'>, {'do': 0.015748031496062992}), ('exploitation', '.'): defaultdict(<class 'float'>, {'</s>': 0.0234375}), ('<s>', 'A'): defaultdict(<class 'float'>, {'few': 0.015748031496062992}), ('were', 'gone'): defaultdict(<class 'float'>, {'.': 0.015748031496062992}), ('went', 'from'): defaultdict(<class 'float'>, {'maximum': 0.015748031496062992}), ('<s>', 'And'): defaultdict(<class 'float'>, {'what': 0.015748031496062992}), ('Both', 'are'): defaultdict(<class 'float'>, {'necessary': 0.015748031496062992}), ('that', 'they'): defaultdict(<class 'float'>, {'used': 0.015748031496062992}), ('growth', 'is'): defaultdict(<class 'float'>, {'figuring': 0.015748031496062992}), ('much', 'exploitation'): defaultdict(<class 'float'>, {'.': 0.015748031496062992}), ('I', 'worked'): defaultdict(<class 'float'>, {'closely': 0.015748031496062992}), ('real', 'solution'): defaultdict(<class 'float'>, {'to': 0.015748031496062992}), (':', 'they'): defaultdict(<class 'float'>, {'only': 0.015748031496062992}), ('born', 'deep'): defaultdict(<class 'float'>, {'in': 0.015748031496062992}), ('biotech', 'company'): defaultdict(<class 'float'>, {'.': 0.015748031496062992}), ('<s>', 'Both'): defaultdict(<class 'float'>, {'are': 0.015748031496062992}), ('<s>', 'Gone'): defaultdict(<class 'float'>, {'.': 0.015748031496062992}), ('<s>', 'But'): defaultdict(<class 'float'>, {'exploration': 0.015748031496062992}), ('do', 'when'): defaultdict(<class 'float'>, {'the': 0.015748031496062992}), (',', 'too'): defaultdict(<class 'float'>, {'.': 0.015748031496062992}), ('the', 'electronic'): defaultdict(<class 'float'>, {'calculator': 0.015748031496062992}), ('exploration', 'and'): defaultdict(<class 'float'>, {'exploitation': 0.015748031496062992}), ('the', 'world'): defaultdict(<class 'float'>, {'.': 0.015748031496062992}), ('used', 'to'): defaultdict(<class 'float'>, {'double-check': 0.015748031496062992}), ('enough', 'to'): defaultdict(<class 'float'>, {'remember': 0.015748031496062992}), ('two', 'reasons'): defaultdict(<class 'float'>, {'companies': 0.015748031496062992}), ('were', 'born'): defaultdict(<class 'float'>, {'deep': 0.015748031496062992}), ('figuring', 'out'): defaultdict(<class 'float'>, {'the': 0.015748031496062992}), ('the', 'irony'): defaultdict(<class 'float'>, {'about': 0.015748031496062992}), ('when', 'the'): defaultdict(<class 'float'>, {'electronic': 0.015748031496062992}), ('Let', \"'s\"): defaultdict(<class 'float'>, {'call': 0.015748031496062992}), ('?', 'They'): defaultdict(<class 'float'>, {'continued': 0.015748031496062992}), ('be', 'too'): defaultdict(<class 'float'>, {'much': 0.015748031496062992}), ('cheap', ','): defaultdict(<class 'float'>, {'small': 0.015748031496062992}), ('are', 'two'): defaultdict(<class 'float'>, {'reasons': 0.015748031496062992}), (',', 'the'): defaultdict(<class 'float'>, {'irony': 0.015748031496062992}), ('electronic', 'calculators'): defaultdict(<class 'float'>, {'in': 0.015748031496062992}), ('and', 'exploitation'): defaultdict(<class 'float'>, {'.': 0.015748031496062992}), ('Swedish', 'forest'): defaultdict(<class 'float'>, {',': 0.015748031496062992}), ('did', 'too'): defaultdict(<class 'float'>, {'much': 0.015748031496062992}), ('mechanical', 'calculators'): defaultdict(<class 'float'>, {'in': 0.015748031496062992}), ('Facit', 'story'): defaultdict(<class 'float'>, {'is': 0.015748031496062992}), ('company', '.'): defaultdict(<class 'float'>, {'</s>': 0.0234375}), ('was', 'a'): defaultdict(<class 'float'>, {'fantastic': 0.015748031496062992}), ('they', 'made'): defaultdict(<class 'float'>, {'the': 0.015748031496062992}), ('fantastic', 'company'): defaultdict(<class 'float'>, {'.': 0.015748031496062992}), (',', 'but'): defaultdict(<class 'float'>, {'it': 0.015748031496062992}), ('actually', 'old'): defaultdict(<class 'float'>, {'enough': 0.015748031496062992}), ('world', '.'): defaultdict(<class 'float'>, {'</s>': 0.015748031496062992}), ('To', 'me'): defaultdict(<class 'float'>, {',': 0.015625, 'the': 0.015625}), ('same', ','): defaultdict(<class 'float'>, {'or': 0.015748031496062992}), ('<s>', 'Consider'): defaultdict(<class 'float'>, {'Facit': 0.015748031496062992}), ('worked', 'closely'): defaultdict(<class 'float'>, {'alongside': 0.015748031496062992}), ('between', 'two'): defaultdict(<class 'float'>, {'activities': 0.015748031496062992}), ('the', 'same'): defaultdict(<class 'float'>, {'.': 0.015625, ',': 0.015625}), ('double-check', 'their'): defaultdict(<class 'float'>, {'calculators': 0.015748031496062992}), ('was', 'brilliant'): defaultdict(<class 'float'>, {'</s>': 0.015748031496062992}), (',', 'small'): defaultdict(<class 'float'>, {'electronic': 0.015748031496062992}), ('story', 'is'): defaultdict(<class 'float'>, {'hearing': 0.015748031496062992}), ('A', 'few'): defaultdict(<class 'float'>, {'years': 0.015748031496062992}), ('bought', 'cheap'): defaultdict(<class 'float'>, {',': 0.015748031496062992}), ('But', 'exploration'): defaultdict(<class 'float'>, {'can': 0.015748031496062992}), ('same', '.'): defaultdict(<class 'float'>, {'</s>': 0.015748031496062992}), ('And', 'what'): defaultdict(<class 'float'>, {'did': 0.015748031496062992}), ('closely', 'alongside'): defaultdict(<class 'float'>, {'a': 0.015748031496062992}), ('too', '.'): defaultdict(<class 'float'>, {'</s>': 0.015748031496062992}), ('they', 'only'): defaultdict(<class 'float'>, {'do': 0.0234375}), ('hearing', 'about'): defaultdict(<class 'float'>, {'the': 0.015748031496062992}), (',', 'who'): defaultdict(<class 'float'>, {'had': 0.015748031496062992}), ('in', 'the'): defaultdict(<class 'float'>, {'Swedish': 0.015625, 'world': 0.015625}), ('two', 'activities'): defaultdict(<class 'float'>, {':': 0.015748031496062992}), ('calculators', 'in'): defaultdict(<class 'float'>, {'Japan': 0.015625, 'the': 0.015625}), ('of', 'the'): defaultdict(<class 'float'>, {'same': 0.015748031496062992}), ('from', 'maximum'): defaultdict(<class 'float'>, {'revenue': 0.015748031496062992}), ('it', 'can'): defaultdict(<class 'float'>, {'be': 0.015748031496062992}), ('<s>', 'Here'): defaultdict(<class 'float'>, {'are': 0.015748031496062992}), ('months', ','): defaultdict(<class 'float'>, {'they': 0.015748031496062992}), ('engineers', ','): defaultdict(<class 'float'>, {'who': 0.015748031496062992}), ('Here', 'are'): defaultdict(<class 'float'>, {'two': 0.015748031496062992}), ('Facit', 'do'): defaultdict(<class 'float'>, {'when': 0.015748031496062992}), ('to', 'double-check'): defaultdict(<class 'float'>, {'their': 0.015748031496062992}), ('real', ','): defaultdict(<class 'float'>, {'real': 0.015748031496062992}), ('they', 'used'): defaultdict(<class 'float'>, {'to': 0.015748031496062992})})\n",
      "\n",
      "defaultdict(<function train_for_analysis.<locals>.<lambda> at 0x000002115018D158>, {('new',): defaultdict(<class 'float'>, {'.': 1.0, '</s>': 0.0}), ('but',): defaultdict(<class 'float'>, {'it': 1.0}), (',',): defaultdict(<class 'float'>, {'and': 0.1, 'real': 0.1, 'small': 0.1, 'but': 0.1, 'they': 0.1, 'I': 0.1, 'the': 0.1, 'or': 0.1, 'who': 0.1, 'too': 0.1}), ('who',): defaultdict(<class 'float'>, {'had': 1.0}), ('best',): defaultdict(<class 'float'>, {'mechanical': 1.0}), ('companies',): defaultdict(<class 'float'>, {'fail': 1.0}), ('fail',): defaultdict(<class 'float'>, {':': 1.0}), ('double-check',): defaultdict(<class 'float'>, {'their': 1.0}), ('thing',): defaultdict(<class 'float'>, {'.': 1.0}), ('too',): defaultdict(<class 'float'>, {'much': 0.6666666666666666, '.': 0.3333333333333333}), ('of',): defaultdict(<class 'float'>, {'a': 0.5, 'the': 0.5}), ('call',): defaultdict(<class 'float'>, {'them': 1.0}), ('solution',): defaultdict(<class 'float'>, {'to': 1.0}), ('growth',): defaultdict(<class 'float'>, {'is': 1.0}), ('maximum',): defaultdict(<class 'float'>, {'revenue': 1.0}), ('figuring',): defaultdict(<class 'float'>, {'out': 1.0}), ('their',): defaultdict(<class 'float'>, {'calculators': 1.0}), ('<s>',): defaultdict(<class 'float'>, {'In': 0.05555555555555555, 'Gone': 0.05555555555555555, 'The': 0.05555555555555555, 'Every': 0.0, 'Consider': 0.05555555555555555, 'And': 0.05555555555555555, 'A': 0.05555555555555555, 'Everybody': 0.05555555555555555, 'Both': 0.05555555555555555, 'Facit': 0.1111111111111111, 'But': 0.05555555555555555, 'Here': 0.05555555555555555, 'They': 0.05555555555555555, 'To': 0.1111111111111111, 'I': 0.05555555555555555, 'and': 0.05555555555555555, 'Let': 0.05555555555555555}), ('old',): defaultdict(<class 'float'>, {'enough': 1.0}), ('company',): defaultdict(<class 'float'>, {'.': 0.6666666666666666, 'was': 0.3333333333333333}), ('two',): defaultdict(<class 'float'>, {'reasons': 0.5, 'activities': 0.5}), ('born',): defaultdict(<class 'float'>, {'deep': 1.0}), ('calculator',): defaultdict(<class 'float'>, {'came': 1.0}), ('revenue',): defaultdict(<class 'float'>, {'.': 1.0}), ('about',): defaultdict(<class 'float'>, {'creating': 0.0, 'the': 1.0}), ('months',): defaultdict(<class 'float'>, {',': 1.0}), ('Consider',): defaultdict(<class 'float'>, {'Facit': 1.0}), ('from',): defaultdict(<class 'float'>, {'maximum': 1.0}), ('was',): defaultdict(<class 'float'>, {'a': 0.5, 'about': 0.0, 'brilliant': 0.5}), ('hearing',): defaultdict(<class 'float'>, {'about': 1.0}), (\"'m\",): defaultdict(<class 'float'>, {'actually': 1.0}), ('electronic',): defaultdict(<class 'float'>, {'calculator': 0.5, 'calculators': 0.5}), ('calculators',): defaultdict(<class 'float'>, {'.': 0.3333333333333333, 'in': 0.6666666666666666}), ('had',): defaultdict(<class 'float'>, {'bought': 1.0}), ('The',): defaultdict(<class 'float'>, {'company': 1.0}), ('In',): defaultdict(<class 'float'>, {'six': 1.0}), ('I',): defaultdict(<class 'float'>, {\"'m\": 0.5, 'worked': 0.5}), ('deep',): defaultdict(<class 'float'>, {'in': 1.0}), ('necessary',): defaultdict(<class 'float'>, {',': 1.0}), ('Both',): defaultdict(<class 'float'>, {'are': 1.0}), ('brilliant',): defaultdict(<class 'float'>, {'</s>': 1.0}), ('between',): defaultdict(<class 'float'>, {'two': 1.0}), ('small',): defaultdict(<class 'float'>, {'electronic': 1.0}), ('six',): defaultdict(<class 'float'>, {'months': 1.0}), ('day',): defaultdict(<class 'float'>, {'was': 0.0}), ('out',): defaultdict(<class 'float'>, {'the': 1.0}), ('what',): defaultdict(<class 'float'>, {'did': 0.5, \"'s\": 0.5}), ('me',): defaultdict(<class 'float'>, {',': 0.5, 'the': 0.5}), ('Every',): defaultdict(<class 'float'>, {'day': 0.0}), ('creating',): defaultdict(<class 'float'>, {'something': 0.0}), ('Here',): defaultdict(<class 'float'>, {'are': 1.0}), ('good',): defaultdict(<class 'float'>, {'thing': 1.0}), ('</s>',): defaultdict(<class 'float'>, {'<s>': 0.9444444444444444}), ('few',): defaultdict(<class 'float'>, {'years': 1.0}), ('were',): defaultdict(<class 'float'>, {'born': 0.5, 'gone': 0.5}), ('Gone',): defaultdict(<class 'float'>, {'.': 1.0}), ('a',): defaultdict(<class 'float'>, {'good': 0.3333333333333333, 'European': 0.3333333333333333, 'fantastic': 0.3333333333333333}), ('to',): defaultdict(<class 'float'>, {'remember': 0.3333333333333333, 'quality': 0.3333333333333333, 'double-check': 0.3333333333333333}), ('.',): defaultdict(<class 'float'>, {'</s>': 1.0}), ('something',): defaultdict(<class 'float'>, {'new': 0.0}), ('only',): defaultdict(<class 'float'>, {'do': 1.0}), ('wild',): defaultdict(<class 'float'>, {',': 1.0}), ('be',): defaultdict(<class 'float'>, {'too': 1.0}), ('in',): defaultdict(<class 'float'>, {'Japan': 0.3333333333333333, 'the': 0.6666666666666666}), ('and',): defaultdict(<class 'float'>, {'exploitation': 0.3333333333333333, 'they': 0.6666666666666666}), ('years',): defaultdict(<class 'float'>, {'back': 1.0}), ('alongside',): defaultdict(<class 'float'>, {'a': 1.0}), ('or',): defaultdict(<class 'float'>, {'they': 1.0}), ('exploitation',): defaultdict(<class 'float'>, {'.': 1.0}), ('is',): defaultdict(<class 'float'>, {'figuring': 0.5, 'hearing': 0.5}), ('go',): defaultdict(<class 'float'>, {'wild': 1.0}), ('And',): defaultdict(<class 'float'>, {'what': 1.0}), ('along',): defaultdict(<class 'float'>, {'?': 1.0}), ('?',): defaultdict(<class 'float'>, {'They': 1.0}), ('balance',): defaultdict(<class 'float'>, {'between': 1.0}), ('it',): defaultdict(<class 'float'>, {'can': 1.0}), ('They',): defaultdict(<class 'float'>, {'continued': 0.5, 'were': 0.5}), ('continued',): defaultdict(<class 'float'>, {'doing': 1.0}), ('irony',): defaultdict(<class 'float'>, {'about': 1.0}), ('closely',): defaultdict(<class 'float'>, {'alongside': 1.0}), ('the',): defaultdict(<class 'float'>, {'electronic': 0.09090909090909091, 'irony': 0.09090909090909091, 'balance': 0.09090909090909091, 'same': 0.18181818181818182, 'world': 0.09090909090909091, 'Facit': 0.18181818181818182, 'best': 0.09090909090909091, 'Swedish': 0.09090909090909091, 'real': 0.09090909090909091}), ('worked',): defaultdict(<class 'float'>, {'closely': 1.0}), ('A',): defaultdict(<class 'float'>, {'few': 1.0}), ('quality',): defaultdict(<class 'float'>, {'growth': 1.0}), ('came',): defaultdict(<class 'float'>, {'along': 1.0}), ('European',): defaultdict(<class 'float'>, {'biotech': 1.0}), ('that',): defaultdict(<class 'float'>, {'they': 1.0}), ('activities',): defaultdict(<class 'float'>, {':': 1.0}), ('real',): defaultdict(<class 'float'>, {',': 0.5, 'solution': 0.5}), ('used',): defaultdict(<class 'float'>, {'them': 0.5, 'to': 0.5}), ('made',): defaultdict(<class 'float'>, {'the': 1.0}), ('same',): defaultdict(<class 'float'>, {'.': 0.5, ',': 0.5}), ('fantastic',): defaultdict(<class 'float'>, {'company': 1.0}), ('OncoSearch',): defaultdict(<class 'float'>, {'.': 1.0}), ('them',): defaultdict(<class 'float'>, {'.': 0.6666666666666666, 'OncoSearch': 0.3333333333333333}), (':',): defaultdict(<class 'float'>, {'they': 0.5, 'exploration': 0.5}), ('mechanical',): defaultdict(<class 'float'>, {'calculators': 1.0}), ('they',): defaultdict(<class 'float'>, {'used': 0.16666666666666666, 'went': 0.16666666666666666, 'only': 0.3333333333333333, 'were': 0.16666666666666666, 'made': 0.16666666666666666}), ('went',): defaultdict(<class 'float'>, {'from': 1.0}), ('To',): defaultdict(<class 'float'>, {'me': 1.0}), ('bought',): defaultdict(<class 'float'>, {'cheap': 1.0}), ('engineers',): defaultdict(<class 'float'>, {',': 1.0}), ('cheap',): defaultdict(<class 'float'>, {',': 1.0}), ('gone',): defaultdict(<class 'float'>, {'.': 1.0}), ('Everybody',): defaultdict(<class 'float'>, {'used': 1.0}), (\"'s\",): defaultdict(<class 'float'>, {'call': 0.5, 'new': 0.5}), ('forest',): defaultdict(<class 'float'>, {',': 1.0}), ('Let',): defaultdict(<class 'float'>, {\"'s\": 1.0}), ('back',): defaultdict(<class 'float'>, {',': 1.0}), ('biotech',): defaultdict(<class 'float'>, {'company': 1.0}), ('exploration',): defaultdict(<class 'float'>, {'can': 0.5, 'and': 0.5}), ('did',): defaultdict(<class 'float'>, {'Facit': 0.5, 'too': 0.5}), ('reasons',): defaultdict(<class 'float'>, {'companies': 1.0}), ('exactly',): defaultdict(<class 'float'>, {'the': 1.0}), ('enough',): defaultdict(<class 'float'>, {'to': 1.0}), ('do',): defaultdict(<class 'float'>, {'when': 0.3333333333333333, 'more': 0.3333333333333333, 'what': 0.3333333333333333}), ('world',): defaultdict(<class 'float'>, {'.': 1.0}), ('Swedish',): defaultdict(<class 'float'>, {'forest': 1.0}), ('remember',): defaultdict(<class 'float'>, {'them': 1.0}), ('actually',): defaultdict(<class 'float'>, {'old': 1.0}), ('much',): defaultdict(<class 'float'>, {'exploitation': 0.5, 'of': 0.5}), ('Japan',): defaultdict(<class 'float'>, {'that': 1.0}), ('more',): defaultdict(<class 'float'>, {'of': 1.0}), ('Facit',): defaultdict(<class 'float'>, {'was': 0.16666666666666666, 'did': 0.16666666666666666, '.': 0.16666666666666666, 'engineers': 0.16666666666666666, 'story': 0.16666666666666666, 'do': 0.16666666666666666}), ('when',): defaultdict(<class 'float'>, {'the': 1.0}), ('But',): defaultdict(<class 'float'>, {'exploration': 1.0}), ('are',): defaultdict(<class 'float'>, {'two': 0.5, 'necessary': 0.5}), ('can',): defaultdict(<class 'float'>, {'be': 0.5, 'go': 0.5}), ('doing',): defaultdict(<class 'float'>, {'exactly': 1.0}), ('story',): defaultdict(<class 'float'>, {'is': 1.0})})\n"
     ]
    }
   ],
   "source": [
    "def train_ngram(data, N, k=0):\n",
    "    \"\"\"\n",
    "    Trains an n-gram language model with optional add-k smoothing\n",
    "    and additionaly returns the unigram model\n",
    "    \n",
    "    :param data: text-data as returned by read\n",
    "    :param N: (N>1) the order of the ngram e.g. N=2 gives a bigram\n",
    "    :param k: optional add-k smoothing\n",
    "    :returns: ngram and unigram\n",
    "    \"\"\"\n",
    "    \n",
    "    ### DO THE UNIGRAM FIRST\n",
    "    unpacked_data = [word for sent in data for word in sent]\n",
    "    unigram = defaultdict(float, Counter(unpacked_data)) # default prob is 0.0           \n",
    "    total_num_words = sum(unigram.values())\n",
    "    \n",
    "    vocab_size = len(unigram)\n",
    "    #print ('The vocab size is',vocab_size)\n",
    "    \n",
    "    for i in unigram:\n",
    "        unigram[i] /= vocab_size\n",
    "    \n",
    "    tups_of_size_N = list(zip(*[unpacked_data[i:] for i in range(N)]))\n",
    "    tups_of_size_N_1 = list(zip(*[unpacked_data[i:] for i in range(N-1)]))\n",
    "\n",
    "    count_each_tup = Counter(tups_of_size_N)\n",
    "    count_each_tup_N_1 = Counter(tups_of_size_N_1)\n",
    "\n",
    "    ngram = defaultdict(lambda: defaultdict(float))\n",
    "    \n",
    "    \n",
    "    for sent, freq in count_each_tup.items():\n",
    "        word = sent[-1]\n",
    "        #print ('count_each_tup.items()')\n",
    "        #print ('sent is',sent)\n",
    "        #print ('word is',word)\n",
    "        hist = sent[:-1]\n",
    "        hist_freq = count_each_tup_N_1[sent[:-1]]\n",
    "        ngram[hist][word] = (freq + k)/(hist_freq + k * vocab_size)\n",
    "        \n",
    "    \n",
    "    \n",
    "    # print (unigram)\n",
    "    return ngram, unigram\n",
    "\n",
    "data, w2i, i2w = read(train_file)\n",
    "# bigram, unigram = train_ngram(data, N=3)\n",
    "bigram_smoothed, unigram_smoothed = train_ngram(data, N=3, k=1.0)\n",
    "\n",
    "print (bigram_smoothed)\n",
    "print ('')\n",
    "print (bigram)\n",
    "#print(bigram_smoothed[(\"gone\",)])\n",
    "#print(bigram[(\"but\",)])\n",
    "#print(bigram_smoothed[(\"and\",)])"
   ]
  },
  {
   "cell_type": "code",
   "execution_count": 139,
   "metadata": {},
   "outputs": [
    {
     "name": "stdout",
     "output_type": "stream",
     "text": [
      "['<s>', 'Both', 'are', 'necessary', ',', 'but', 'it', 'can', 'be', 'too', 'much', 'of', 'a', 'good', 'thing', '.', '</s>']\n"
     ]
    }
   ],
   "source": [
    "print(data[2])"
   ]
  },
  {
   "cell_type": "markdown",
   "metadata": {},
   "source": [
    "## Exercise 2.2 (5 points)\n",
    "\n",
    "You can use an *N*-gram language model to **generate text**. The higher the order *N* the better your model will be able to catch the long-range dependecies that occur in actual sentences and the better your changes are at generating sensible text. But beware: **sparsity** of language data will quickly cause your model to reproduce entire lines from your training data; in such cases only one $w_k$ was observed for the histories $w_{k-N+1}\\dots w_{k-1}$ in the entire training-set.\n",
    "\n",
    "**Complete** the function `generate_sent`. It takes a language model `lm` and an order `N` and should generate a sentence by **sampling** from the language model.\n",
    "\n",
    "**[Hint]** You can use the method of [inverse transform sampling](https://en.wikipedia.org/wiki/Inverse_transform_sampling) to generate a sample from a **categorical distribution**, $p_1\\dots p_k$ such that $p_i \\geq 0$ and $\\sum_{i=1}^k p_i = 1$, as follows:"
   ]
  },
  {
   "cell_type": "code",
   "execution_count": 140,
   "metadata": {},
   "outputs": [
    {
     "name": "stdout",
     "output_type": "stream",
     "text": [
      "1\n",
      "Counter({2: 489, 1: 205, 3: 202, None: 104})\n"
     ]
    }
   ],
   "source": [
    "from random import random\n",
    "\n",
    "P = [0.2,0.5,0.2,0.1]\n",
    "\n",
    "def sample(P):\n",
    "    u = random() # uniformly random number between 0 and 1\n",
    "    p = 0\n",
    "    for i, p_i in enumerate(P):\n",
    "        if p > u: \n",
    "            return i # the first i s.t. p1 + ... + pi > u\n",
    "        p += p_i\n",
    "        \n",
    "print(sample(P))\n",
    "\n",
    "print(Counter([sample(P) for i in range(1000)])) # check to see if the law of large numbers is still true"
   ]
  },
  {
   "cell_type": "markdown",
   "metadata": {},
   "source": [
    "Inverse transform sampling in the words of Jurafsky and Martin:\n",
    "\n",
    "> Imagine all the words of the English language covering the probability space\n",
    "between 0 and 1, each word covering an interval proportional to its frequency. We\n",
    "choose a random value between 0 and 1 and print the word whose interval includes\n",
    "this chosen value.\n",
    "\n",
    "(J&M, section 4.3)"
   ]
  },
  {
   "cell_type": "code",
   "execution_count": 300,
   "metadata": {},
   "outputs": [
    {
     "name": "stdout",
     "output_type": "stream",
     "text": [
      "Done training, making a sentence now\n",
      "Just pay attention , . \n",
      "\n",
      "But Derek , your ear is so much information . \n",
      "\n",
      "Helping Africa is noble . \n",
      "\n",
      "Brooklyn-based Chitra Ganesh is known for donating to charity . \n",
      "\n",
      "which really wasn 't sure what . \n",
      "\n",
      "But Torvalds said , \"No , no , no , here 's my story . \n",
      "\n"
     ]
    },
    {
     "ename": "KeyboardInterrupt",
     "evalue": "",
     "output_type": "error",
     "traceback": [
      "\u001b[1;31m---------------------------------------------------------------------------\u001b[0m",
      "\u001b[1;31mKeyboardInterrupt\u001b[0m                         Traceback (most recent call last)",
      "\u001b[1;32m<ipython-input-300-1d74b38eb42e>\u001b[0m in \u001b[0;36m<module>\u001b[1;34m()\u001b[0m\n\u001b[0;32m    106\u001b[0m \u001b[1;33m\u001b[0m\u001b[0m\n\u001b[0;32m    107\u001b[0m \u001b[1;32mfor\u001b[0m \u001b[0mi\u001b[0m \u001b[1;32min\u001b[0m \u001b[0mrange\u001b[0m\u001b[1;33m(\u001b[0m\u001b[1;36m10\u001b[0m\u001b[1;33m)\u001b[0m\u001b[1;33m:\u001b[0m\u001b[1;33m\u001b[0m\u001b[0m\n\u001b[1;32m--> 108\u001b[1;33m     \u001b[0msentence\u001b[0m \u001b[1;33m=\u001b[0m \u001b[0mgenerate_sent\u001b[0m\u001b[1;33m(\u001b[0m\u001b[0mngram\u001b[0m\u001b[1;33m,\u001b[0m\u001b[0mN\u001b[0m\u001b[1;33m)\u001b[0m\u001b[1;33m\u001b[0m\u001b[0m\n\u001b[0m\u001b[0;32m    109\u001b[0m \u001b[1;33m\u001b[0m\u001b[0m\n\u001b[0;32m    110\u001b[0m     \u001b[0msentence_str\u001b[0m \u001b[1;33m=\u001b[0m \u001b[0mstr\u001b[0m\u001b[1;33m(\u001b[0m\u001b[1;33m)\u001b[0m\u001b[1;33m\u001b[0m\u001b[0m\n",
      "\u001b[1;32m<ipython-input-300-1d74b38eb42e>\u001b[0m in \u001b[0;36mgenerate_sent\u001b[1;34m(lm, N)\u001b[0m\n\u001b[0;32m     63\u001b[0m \u001b[1;33m\u001b[0m\u001b[0m\n\u001b[0;32m     64\u001b[0m         \u001b[1;32mfor\u001b[0m \u001b[0mi\u001b[0m \u001b[1;32min\u001b[0m \u001b[0mlm\u001b[0m\u001b[1;33m:\u001b[0m\u001b[1;33m\u001b[0m\u001b[0m\n\u001b[1;32m---> 65\u001b[1;33m             \u001b[1;32mif\u001b[0m \u001b[0mprevious_words\u001b[0m \u001b[1;33m==\u001b[0m \u001b[0mlist\u001b[0m\u001b[1;33m(\u001b[0m\u001b[0mi\u001b[0m\u001b[1;33m)\u001b[0m\u001b[1;33m[\u001b[0m\u001b[1;33m:\u001b[0m\u001b[0mN\u001b[0m\u001b[1;33m-\u001b[0m\u001b[1;36m1\u001b[0m\u001b[1;33m]\u001b[0m\u001b[1;33m:\u001b[0m\u001b[1;33m\u001b[0m\u001b[0m\n\u001b[0m\u001b[0;32m     66\u001b[0m                 \u001b[1;32mfor\u001b[0m \u001b[0mj\u001b[0m \u001b[1;32min\u001b[0m \u001b[0mlm\u001b[0m\u001b[1;33m[\u001b[0m\u001b[0mi\u001b[0m\u001b[1;33m]\u001b[0m\u001b[1;33m:\u001b[0m\u001b[1;33m\u001b[0m\u001b[0m\n\u001b[0;32m     67\u001b[0m                     \u001b[0mword_list\u001b[0m\u001b[1;33m.\u001b[0m\u001b[0mappend\u001b[0m\u001b[1;33m(\u001b[0m\u001b[0mj\u001b[0m\u001b[1;33m)\u001b[0m\u001b[1;33m\u001b[0m\u001b[0m\n",
      "\u001b[1;31mKeyboardInterrupt\u001b[0m: "
     ]
    }
   ],
   "source": [
    "from random import random\n",
    "from copy import copy\n",
    "\n",
    "def sample_words(prob_list,word_list):\n",
    "    u = random()\n",
    "    p = 0\n",
    "    # prob_list.append(0)\n",
    "    for i in range(0,len(prob_list)):\n",
    "        p += prob_list[i]\n",
    "        if p > u:\n",
    "            return word_list[i]\n",
    "    \n",
    "    new_unigram = copy(unigram)\n",
    "    \n",
    "    for j in word_list:\n",
    "        del new_unigram[j]\n",
    "            \n",
    "    for i in new_unigram:\n",
    "        new_unigram[i] = (1 - sum(prob_list))/len(new_unigram)\n",
    "        p += new_unigram[i]\n",
    "        if p > u:\n",
    "            return i\n",
    "        \n",
    "    \n",
    "def start_sentence(lm,N):\n",
    "    # We do not know how to start the sentence is N>2, since we do not have enough information to look back\n",
    "    # Therefore we randomly choose N-1 starting words from the history staring with '<s>'. \n",
    "    \n",
    "    start = '<s>'\n",
    "    \n",
    "    if N == 2:\n",
    "        return [start]\n",
    "    \n",
    "    word_list = []\n",
    "    \n",
    "    for i in lm:\n",
    "        if i[0] == start:\n",
    "            word_list.append(i)\n",
    "            \n",
    "    prob_list = list(np.ones([len(word_list)])* (1 / len(word_list)))\n",
    "    starting_words = sample_words(prob_list,word_list)\n",
    "    \n",
    "    return [word for word in starting_words]\n",
    "\n",
    "def generate_sent(lm, N):\n",
    "    ## YOUR CODE HERE ##\n",
    "    \n",
    "    if N < 2 or N > 4:\n",
    "        raise NotImplementedError ('N should be 2, 3 or 4')\n",
    "        \n",
    "    end = '</s>'\n",
    "    sentence= start_sentence(lm,N)\n",
    "    \n",
    "    # print (sentence)\n",
    "    \n",
    "    last_word = sentence[-1]\n",
    "    \n",
    "    while last_word != end:\n",
    "        previous_words = sentence[-(N-1):]\n",
    "        \n",
    "        word_list = []\n",
    "        prob_list = []\n",
    "        \n",
    "        for i in lm:\n",
    "            if previous_words == list(i)[:N-1]:\n",
    "                for j in lm[i]:\n",
    "                    word_list.append(j)\n",
    "                    prob_list.append(lm[i][j])            \n",
    "        # print (word_list)\n",
    "        # print (prob_list)\n",
    "        next_word = sample_words(prob_list,word_list)\n",
    "        \n",
    "        while next_word == '<s>':\n",
    "            next_word = sample_words(prob_list,word_list)\n",
    "            print (sentence)\n",
    "        \n",
    "        if next_word == None:\n",
    "            raise NotImplementedError ('Next word is none, something went wrong!')\n",
    "        \n",
    "        sentence.append(next_word)\n",
    "        last_word = sentence[-1]\n",
    "        # print (sentence)\n",
    "        if next_word == '.':\n",
    "            sentence.append(end)\n",
    "            return sentence\n",
    "        \n",
    "        if next_word == end:\n",
    "            return sentence \n",
    "    \n",
    "def read_and_train(train_file,N,k):\n",
    "    data, w2i, i2w = read(train_file)\n",
    "    # _, unigram = train_ngram(data, N, k=0)\n",
    "    ngram, unigram = train_ngram(data, N, k)\n",
    "    return ngram, unigram\n",
    "\n",
    "N = 4\n",
    "k = 0.0\n",
    "train_file = \"ted-train.txt\"\n",
    "\n",
    "#------------------------------------------#\n",
    "# UNCOMMENT THIS LINE ONCE IT IS TRAINED\n",
    "ngram,unigram = read_and_train(train_file,N,k)\n",
    "#------------------------------------------#\n",
    "\n",
    "print ('Done training, making a sentence now')\n",
    "\n",
    "for i in range(10):\n",
    "    sentence = generate_sent(ngram,N)\n",
    "\n",
    "    sentence_str = str()\n",
    "    for i in sentence[1:-1]:\n",
    "        sentence_str += i + ' '\n",
    "\n",
    "    print (sentence_str)\n",
    "    print ('')"
   ]
  },
  {
   "cell_type": "markdown",
   "metadata": {},
   "source": [
    "### [Optional]\n",
    "\n",
    "For how many of the histories $w_{k-N+1}\\dots w_{k-1}$ is the number of continuations $w_n$ equal to **one**? Calculate the percentage of such cases for the different orders *N*.\n",
    "\n",
    "And which history has the **most possible continuations**?"
   ]
  },
  {
   "cell_type": "code",
   "execution_count": null,
   "metadata": {
    "collapsed": true
   },
   "outputs": [],
   "source": []
  },
  {
   "cell_type": "markdown",
   "metadata": {},
   "source": [
    "## Excercise 2.3 (5 points)\n",
    "\n",
    "Let $V$ denote our vocabulary. Recall that for any $w$ in $V$ `bigram[w]` defines a conditional probability $p(v|w)$ over $v$ in $V$. In the case of an **unsmoothed bigram**, $p(v|w) = 0$ for most $v\\in V$, whereas in the **smoothed bigram** smoothing took care that $p(v|w) \\geq 0$ for *all* $v$.\n",
    "\n",
    "The function `plot_bigram_dist(word, bigram, smoothbigram, k=30)` plots shows $p(v|word)$ for the `k` words $v$. One bar shows the probabilities in `bigram` and one in `smoothbigram`. \n",
    "\n",
    "**(a)** Use this function to plot the distribution for at least two words `w` and answer the questions\n",
    "* What is the effect of smoothing on the bigram distribution of frequent words? \n",
    "* What is the effect in the case of infrequent words?\n",
    "* Explain the difference between the two based on the raw counts of `w` \n",
    "\n",
    "**(b)** Now experiment with $k$ much smaller than 1 (but greater than 0!) \n",
    "* What are the effects?\n",
    "\n",
    "\n",
    "**[Hint]** Remember that add-1 smoothing turns \n",
    "$$P(w_n\\mid w_{n-1}) = \\frac{C(w_{n-1}w_{n})}{C(w_{n-1})}$$\n",
    "into\n",
    "$$P_{add-1}(w_n\\mid w_{n-1}) = \\frac{C(w_{n-1}w_{n}) + 1}{C(w_{n-1}) + |V|}.$$\n",
    "\n",
    "What happens when $C(w_{n-1})$ is relatively big (similiar in of size as $ |V| $)? And what if $C(w_{n-1})$ is small? "
   ]
  },
  {
   "cell_type": "code",
   "execution_count": 310,
   "metadata": {
    "collapsed": true
   },
   "outputs": [],
   "source": [
    "import pandas as pd\n",
    "import seaborn as sns    \n",
    "\n",
    "def plot_bigram_dist(word, bigram, smoothbigram, k=30):\n",
    "    d = bigram[word]\n",
    "    ds = smoothbigram[word]\n",
    "    \n",
    "    print (d)\n",
    "    print (ds)\n",
    "    \n",
    "    # sort the probabilities\n",
    "    d_sort = sorted(d.items(), reverse=True, key=lambda t: t[1])[0:k]\n",
    "    ds_sort = sorted(ds.items(), reverse=True, key=lambda t: t[1])[0:k]\n",
    "    \n",
    "    print (d_sort)\n",
    "    print (ds_sort)\n",
    "        \n",
    "    _, probs = zip(*d_sort)\n",
    "    \n",
    "    print (probs)\n",
    "    smooth_ws, smooth_probs = zip(*ds_sort)\n",
    "    \n",
    "    # make up for the fact that in the unsmoothed case  probs is generally less than k long\n",
    "    probs = probs + (0,) * (k-len(probs)) \n",
    "    \n",
    "    w_data = pd.DataFrame({\"w\": smooth_ws * 2,\n",
    "                           \"P({}|w)\".format(word): probs + smooth_probs,\n",
    "                           \"smoothing\": [\"unsmoothed\"]*k + [\"smoothed\"]*k})\n",
    "    \n",
    "    fig, ax = plt.subplots(figsize=(10,10))\n",
    "    plt.xticks(rotation=90)\n",
    "    g = sns.barplot(ax=ax, x=\"w\", y=\"P({}|w)\".format(word), hue=\"smoothing\",\n",
    "                    data=w_data, palette=\"Blues_d\")"
   ]
  },
  {
   "cell_type": "code",
   "execution_count": 311,
   "metadata": {
    "scrolled": true
   },
   "outputs": [
    {
     "name": "stdout",
     "output_type": "stream",
     "text": [
      "defaultdict(<class 'float'>, {'.': 1.0})\n",
      "defaultdict(<class 'float'>, {'.': 0.008198889182755884})\n",
      "[('.', 1.0)]\n",
      "[('.', 0.008198889182755884)]\n",
      "(1.0,)\n"
     ]
    },
    {
     "ename": "ValueError",
     "evalue": "arrays must all be same length",
     "output_type": "error",
     "traceback": [
      "\u001b[1;31m---------------------------------------------------------------------------\u001b[0m",
      "\u001b[1;31mValueError\u001b[0m                                Traceback (most recent call last)",
      "\u001b[1;32m<ipython-input-311-41fc14e12988>\u001b[0m in \u001b[0;36m<module>\u001b[1;34m()\u001b[0m\n\u001b[0;32m      7\u001b[0m \u001b[1;33m\u001b[0m\u001b[0m\n\u001b[0;32m      8\u001b[0m \u001b[1;33m\u001b[0m\u001b[0m\n\u001b[1;32m----> 9\u001b[1;33m \u001b[0mplot_bigram_dist\u001b[0m\u001b[1;33m(\u001b[0m\u001b[1;33m(\u001b[0m\u001b[1;34m\"gone\"\u001b[0m\u001b[1;33m,\u001b[0m\u001b[1;33m)\u001b[0m\u001b[1;33m,\u001b[0m \u001b[0mbigram\u001b[0m\u001b[1;33m,\u001b[0m \u001b[0mbigram_smoothed\u001b[0m\u001b[1;33m,\u001b[0m \u001b[0mk\u001b[0m\u001b[1;33m=\u001b[0m\u001b[1;36m30\u001b[0m\u001b[1;33m)\u001b[0m\u001b[1;33m\u001b[0m\u001b[0m\n\u001b[0m",
      "\u001b[1;32m<ipython-input-310-abca5f5b66af>\u001b[0m in \u001b[0;36mplot_bigram_dist\u001b[1;34m(word, bigram, smoothbigram, k)\u001b[0m\n\u001b[0;32m     26\u001b[0m     w_data = pd.DataFrame({\"w\": smooth_ws * 2,\n\u001b[0;32m     27\u001b[0m                            \u001b[1;34m\"P({}|w)\"\u001b[0m\u001b[1;33m.\u001b[0m\u001b[0mformat\u001b[0m\u001b[1;33m(\u001b[0m\u001b[0mword\u001b[0m\u001b[1;33m)\u001b[0m\u001b[1;33m:\u001b[0m \u001b[0mprobs\u001b[0m \u001b[1;33m+\u001b[0m \u001b[0msmooth_probs\u001b[0m\u001b[1;33m,\u001b[0m\u001b[1;33m\u001b[0m\u001b[0m\n\u001b[1;32m---> 28\u001b[1;33m                            \"smoothing\": [\"unsmoothed\"]*k + [\"smoothed\"]*k})\n\u001b[0m\u001b[0;32m     29\u001b[0m \u001b[1;33m\u001b[0m\u001b[0m\n\u001b[0;32m     30\u001b[0m     \u001b[0mfig\u001b[0m\u001b[1;33m,\u001b[0m \u001b[0max\u001b[0m \u001b[1;33m=\u001b[0m \u001b[0mplt\u001b[0m\u001b[1;33m.\u001b[0m\u001b[0msubplots\u001b[0m\u001b[1;33m(\u001b[0m\u001b[0mfigsize\u001b[0m\u001b[1;33m=\u001b[0m\u001b[1;33m(\u001b[0m\u001b[1;36m10\u001b[0m\u001b[1;33m,\u001b[0m\u001b[1;36m10\u001b[0m\u001b[1;33m)\u001b[0m\u001b[1;33m)\u001b[0m\u001b[1;33m\u001b[0m\u001b[0m\n",
      "\u001b[1;32m~\\Anaconda3\\lib\\site-packages\\pandas\\core\\frame.py\u001b[0m in \u001b[0;36m__init__\u001b[1;34m(self, data, index, columns, dtype, copy)\u001b[0m\n\u001b[0;32m    273\u001b[0m                                  dtype=dtype, copy=copy)\n\u001b[0;32m    274\u001b[0m         \u001b[1;32melif\u001b[0m \u001b[0misinstance\u001b[0m\u001b[1;33m(\u001b[0m\u001b[0mdata\u001b[0m\u001b[1;33m,\u001b[0m \u001b[0mdict\u001b[0m\u001b[1;33m)\u001b[0m\u001b[1;33m:\u001b[0m\u001b[1;33m\u001b[0m\u001b[0m\n\u001b[1;32m--> 275\u001b[1;33m             \u001b[0mmgr\u001b[0m \u001b[1;33m=\u001b[0m \u001b[0mself\u001b[0m\u001b[1;33m.\u001b[0m\u001b[0m_init_dict\u001b[0m\u001b[1;33m(\u001b[0m\u001b[0mdata\u001b[0m\u001b[1;33m,\u001b[0m \u001b[0mindex\u001b[0m\u001b[1;33m,\u001b[0m \u001b[0mcolumns\u001b[0m\u001b[1;33m,\u001b[0m \u001b[0mdtype\u001b[0m\u001b[1;33m=\u001b[0m\u001b[0mdtype\u001b[0m\u001b[1;33m)\u001b[0m\u001b[1;33m\u001b[0m\u001b[0m\n\u001b[0m\u001b[0;32m    276\u001b[0m         \u001b[1;32melif\u001b[0m \u001b[0misinstance\u001b[0m\u001b[1;33m(\u001b[0m\u001b[0mdata\u001b[0m\u001b[1;33m,\u001b[0m \u001b[0mma\u001b[0m\u001b[1;33m.\u001b[0m\u001b[0mMaskedArray\u001b[0m\u001b[1;33m)\u001b[0m\u001b[1;33m:\u001b[0m\u001b[1;33m\u001b[0m\u001b[0m\n\u001b[0;32m    277\u001b[0m             \u001b[1;32mimport\u001b[0m \u001b[0mnumpy\u001b[0m\u001b[1;33m.\u001b[0m\u001b[0mma\u001b[0m\u001b[1;33m.\u001b[0m\u001b[0mmrecords\u001b[0m \u001b[1;32mas\u001b[0m \u001b[0mmrecords\u001b[0m\u001b[1;33m\u001b[0m\u001b[0m\n",
      "\u001b[1;32m~\\Anaconda3\\lib\\site-packages\\pandas\\core\\frame.py\u001b[0m in \u001b[0;36m_init_dict\u001b[1;34m(self, data, index, columns, dtype)\u001b[0m\n\u001b[0;32m    409\u001b[0m             \u001b[0marrays\u001b[0m \u001b[1;33m=\u001b[0m \u001b[1;33m[\u001b[0m\u001b[0mdata\u001b[0m\u001b[1;33m[\u001b[0m\u001b[0mk\u001b[0m\u001b[1;33m]\u001b[0m \u001b[1;32mfor\u001b[0m \u001b[0mk\u001b[0m \u001b[1;32min\u001b[0m \u001b[0mkeys\u001b[0m\u001b[1;33m]\u001b[0m\u001b[1;33m\u001b[0m\u001b[0m\n\u001b[0;32m    410\u001b[0m \u001b[1;33m\u001b[0m\u001b[0m\n\u001b[1;32m--> 411\u001b[1;33m         \u001b[1;32mreturn\u001b[0m \u001b[0m_arrays_to_mgr\u001b[0m\u001b[1;33m(\u001b[0m\u001b[0marrays\u001b[0m\u001b[1;33m,\u001b[0m \u001b[0mdata_names\u001b[0m\u001b[1;33m,\u001b[0m \u001b[0mindex\u001b[0m\u001b[1;33m,\u001b[0m \u001b[0mcolumns\u001b[0m\u001b[1;33m,\u001b[0m \u001b[0mdtype\u001b[0m\u001b[1;33m=\u001b[0m\u001b[0mdtype\u001b[0m\u001b[1;33m)\u001b[0m\u001b[1;33m\u001b[0m\u001b[0m\n\u001b[0m\u001b[0;32m    412\u001b[0m \u001b[1;33m\u001b[0m\u001b[0m\n\u001b[0;32m    413\u001b[0m     \u001b[1;32mdef\u001b[0m \u001b[0m_init_ndarray\u001b[0m\u001b[1;33m(\u001b[0m\u001b[0mself\u001b[0m\u001b[1;33m,\u001b[0m \u001b[0mvalues\u001b[0m\u001b[1;33m,\u001b[0m \u001b[0mindex\u001b[0m\u001b[1;33m,\u001b[0m \u001b[0mcolumns\u001b[0m\u001b[1;33m,\u001b[0m \u001b[0mdtype\u001b[0m\u001b[1;33m=\u001b[0m\u001b[1;32mNone\u001b[0m\u001b[1;33m,\u001b[0m \u001b[0mcopy\u001b[0m\u001b[1;33m=\u001b[0m\u001b[1;32mFalse\u001b[0m\u001b[1;33m)\u001b[0m\u001b[1;33m:\u001b[0m\u001b[1;33m\u001b[0m\u001b[0m\n",
      "\u001b[1;32m~\\Anaconda3\\lib\\site-packages\\pandas\\core\\frame.py\u001b[0m in \u001b[0;36m_arrays_to_mgr\u001b[1;34m(arrays, arr_names, index, columns, dtype)\u001b[0m\n\u001b[0;32m   5494\u001b[0m     \u001b[1;31m# figure out the index, if necessary\u001b[0m\u001b[1;33m\u001b[0m\u001b[1;33m\u001b[0m\u001b[0m\n\u001b[0;32m   5495\u001b[0m     \u001b[1;32mif\u001b[0m \u001b[0mindex\u001b[0m \u001b[1;32mis\u001b[0m \u001b[1;32mNone\u001b[0m\u001b[1;33m:\u001b[0m\u001b[1;33m\u001b[0m\u001b[0m\n\u001b[1;32m-> 5496\u001b[1;33m         \u001b[0mindex\u001b[0m \u001b[1;33m=\u001b[0m \u001b[0mextract_index\u001b[0m\u001b[1;33m(\u001b[0m\u001b[0marrays\u001b[0m\u001b[1;33m)\u001b[0m\u001b[1;33m\u001b[0m\u001b[0m\n\u001b[0m\u001b[0;32m   5497\u001b[0m     \u001b[1;32melse\u001b[0m\u001b[1;33m:\u001b[0m\u001b[1;33m\u001b[0m\u001b[0m\n\u001b[0;32m   5498\u001b[0m         \u001b[0mindex\u001b[0m \u001b[1;33m=\u001b[0m \u001b[0m_ensure_index\u001b[0m\u001b[1;33m(\u001b[0m\u001b[0mindex\u001b[0m\u001b[1;33m)\u001b[0m\u001b[1;33m\u001b[0m\u001b[0m\n",
      "\u001b[1;32m~\\Anaconda3\\lib\\site-packages\\pandas\\core\\frame.py\u001b[0m in \u001b[0;36mextract_index\u001b[1;34m(data)\u001b[0m\n\u001b[0;32m   5542\u001b[0m             \u001b[0mlengths\u001b[0m \u001b[1;33m=\u001b[0m \u001b[0mlist\u001b[0m\u001b[1;33m(\u001b[0m\u001b[0mset\u001b[0m\u001b[1;33m(\u001b[0m\u001b[0mraw_lengths\u001b[0m\u001b[1;33m)\u001b[0m\u001b[1;33m)\u001b[0m\u001b[1;33m\u001b[0m\u001b[0m\n\u001b[0;32m   5543\u001b[0m             \u001b[1;32mif\u001b[0m \u001b[0mlen\u001b[0m\u001b[1;33m(\u001b[0m\u001b[0mlengths\u001b[0m\u001b[1;33m)\u001b[0m \u001b[1;33m>\u001b[0m \u001b[1;36m1\u001b[0m\u001b[1;33m:\u001b[0m\u001b[1;33m\u001b[0m\u001b[0m\n\u001b[1;32m-> 5544\u001b[1;33m                 \u001b[1;32mraise\u001b[0m \u001b[0mValueError\u001b[0m\u001b[1;33m(\u001b[0m\u001b[1;34m'arrays must all be same length'\u001b[0m\u001b[1;33m)\u001b[0m\u001b[1;33m\u001b[0m\u001b[0m\n\u001b[0m\u001b[0;32m   5545\u001b[0m \u001b[1;33m\u001b[0m\u001b[0m\n\u001b[0;32m   5546\u001b[0m             \u001b[1;32mif\u001b[0m \u001b[0mhave_dicts\u001b[0m\u001b[1;33m:\u001b[0m\u001b[1;33m\u001b[0m\u001b[0m\n",
      "\u001b[1;31mValueError\u001b[0m: arrays must all be same length"
     ]
    }
   ],
   "source": [
    "N = 2\n",
    "k = 0.0\n",
    "train_file = \"ted-train-test.txt\"\n",
    "\n",
    "bigram,_ = read_and_train(train_file,N,k=0)\n",
    "bigram_smoothed, _ = read_and_train(train_file,N,k=30)\n",
    "\n",
    "\n",
    "plot_bigram_dist((\"gone\",), bigram, bigram_smoothed, k=30)\n"
   ]
  },
  {
   "cell_type": "markdown",
   "metadata": {},
   "source": [
    "YOUR ANSWERS HERE"
   ]
  },
  {
   "cell_type": "markdown",
   "metadata": {},
   "source": [
    "\n",
    "**Recall** that if we have a sentence $w_1,\\dots,w_n$ we can write\n",
    "\n",
    "$$P(w_1\\dots w_n) = P(w_1)P(w_2|w_1) \\cdots P(w_i|w_1 \\dots w_{n-1}) \\approx P(w_1)P(w_2|w_1)\\cdots P(w_{N-1}|w_1\\dots w_{N-2})\\prod_{i=N}^{n} P(w_i|w_{i-(N-1)}\\dots w_{i-1})$$\n",
    "\n",
    "where in the last step we make an $N$-gram approximation of the full conditionals.\n",
    "\n",
    "For example, in the case of a bigram (N=2), the above expression reduces to\n",
    "\n",
    "$$P(w_1 \\dots w_n)\\approx P(w_1)\\prod_{i=2}^{n} P(w_i| w_{i-1}).$$\n",
    "\n",
    "## Exercise 2.4 (5 points)\n",
    "\n",
    "The following sentences are taken from the **training data**. Use your **unsmoothed unigram**, **bigram**, and **trigram** language model to estimate their **probabilities**:\n",
    "\n",
    "    1. Every day was about creating something new .\n",
    "    2. In this machine , a beam of protons and anti-protons are accelerated to near the speed of light and brought \n",
    "       together in a collision , producing a burst of pure energy .\n",
    "\n",
    "**Repeat** this with the **smoothed (add-1)** versions of the N-grams. What is the effect of smoothing on the probabilities?\n"
   ]
  },
  {
   "cell_type": "code",
   "execution_count": 377,
   "metadata": {
    "collapsed": true
   },
   "outputs": [],
   "source": [
    "def train_for_analysis(data, N, k=0):    \n",
    "    unpacked_data = [word for sent in data for word in sent]\n",
    "    unigram = defaultdict(float, Counter(unpacked_data)) # default prob is 0.0           \n",
    "\n",
    "    total_num_words = sum(unigram.values())\n",
    "\n",
    "    vocab_size = len(unigram)\n",
    "\n",
    "    for i in unigram:\n",
    "        unigram[i] /= vocab_size\n",
    "\n",
    "    tups_of_size_N = list(zip(*[unpacked_data[i:] for i in range(N)]))\n",
    "    tups_of_size_N_1 = list(zip(*[unpacked_data[i:] for i in range(N-1)]))\n",
    "\n",
    "    count_each_tup = Counter(tups_of_size_N)\n",
    "    count_each_tup_N_1 = Counter(tups_of_size_N_1)\n",
    "\n",
    "    ngram = defaultdict(lambda: defaultdict(float))\n",
    "\n",
    "    for sent, freq in count_each_tup.items():\n",
    "        word = sent[-1]\n",
    "        hist = sent[:-1]\n",
    "        hist_freq = count_each_tup_N_1[sent[:-1]]\n",
    "        ngram[hist][word] = (freq + k)/(hist_freq + k * vocab_size)\n",
    "        \n",
    "    return ngram,unigram,count_each_tup,count_each_tup_N_1"
   ]
  },
  {
   "cell_type": "code",
   "execution_count": 409,
   "metadata": {},
   "outputs": [
    {
     "name": "stdout",
     "output_type": "stream",
     "text": [
      "The unigram gives sentence 1 a probability of 9.77752622094032e-09\n",
      "The unigram gives sentence 2 a probability of 4.24525692904263e-39\n",
      "The smoothed unigram gives sentence 1 a probability of 9.77752622094032e-09\n",
      "The smoothed unigram gives sentence 2 a probability of 4.24525692904263e-39\n",
      "\n",
      "The bigram gives sentence 1 a probability of 0.0\n",
      "The bigram gives sentence 2 a probability of 6.90268609612761e-72\n",
      "The smoothed bigram gives sentence 1 a probability of 7.079317027243856e-28\n",
      "The smoothed bigram gives sentence 2 a probability of 5.325309375310562e-116\n",
      "\n",
      "The trigram gives sentence 1 a probability of 0.0\n",
      "The trigram gives sentence 2 a probability of 1.2225016353240455e-30\n",
      "The smoothed trigram gives sentence 1 a probability of 1.686795326855153e-33\n",
      "The smoothed trigram gives sentence 2 a probability of 4.800136349678521e-136\n"
     ]
    }
   ],
   "source": [
    "## YOUR CODE HERE ##\n",
    "train_file = \"ted-train.txt\"\n",
    "sentence1 = ['<s>','Every', 'day', 'was', 'about', 'creating', 'something', 'new','</s>']\n",
    "sentence2 = ['<s>','In', 'this', 'machine', ',' ,'a', 'beam', 'of', 'protons', 'and', 'anti-protons', 'are' ,\\\n",
    "             'accelerated' ,'to' ,'near','the' ,'speed', 'of', 'light', 'and', 'brought', 'together', 'in', 'a', 'collision',\\\n",
    "             ',' ,'producing', 'a', 'burst','of', 'pure', 'energy', '.','</s>']\n",
    "sentence3 = ['<s>','The', 'company', 'was', 'brilliant','</s>' ]\n",
    "\n",
    "#---------------------------------------#\n",
    "# Train here first\n",
    "data, _, _ = read(train_file)\n",
    "bigram,unigram, _, count_each_tup_N_1 = train_for_analysis(data,2,k=0)\n",
    "smoothed_bigram, smoothed_unigram,_,_ = train_for_analysis(data,2,k=1)\n",
    "trigram,_,_,count_each_tup_2 = train_for_analysis(data,3,k=0)\n",
    "smoothed_trigram,_,_,_ = train_for_analysis(data,3,k=1)\n",
    "#---------------------------------------#\n",
    "\n",
    "prob_unigram1 = 1\n",
    "prob_smoothed_unigram1 = 1\n",
    "for i in sentence1:\n",
    "    prob_unigram1 *= unigram[i]\n",
    "    prob_smoothed_unigram1 *= smoothed_unigram[i]\n",
    "\n",
    "prob_unigram2 = 1\n",
    "prob_smoothed_unigram2 = 1\n",
    "for i in sentence2:\n",
    "    prob_unigram2 *= unigram[i]\n",
    "    prob_smoothed_unigram2 *= smoothed_unigram[i]\n",
    "\n",
    "prob_bigram1 = unigram[sentence1[0]]\n",
    "prob_smoothed_bigram1 = smoothed_unigram[sentence1[0]]\n",
    "for i in range(1,len(sentence1)):\n",
    "    prob_bigram1 *= bigram[((sentence1)[i-1],)][(sentence1)[i]]\n",
    "    \n",
    "    if smoothed_bigram[((sentence1)[i-1],)][(sentence1)[i]] == 0.0:\n",
    "        prob_smoothed_bigram1 *= 1 / (len(unigram)+count_each_tup_N_1[sentence1[i-1]])\n",
    "    else:\n",
    "        prob_smoothed_bigram1 *= smoothed_bigram[((sentence1)[i-1],)][(sentence1)[i]]\n",
    "\n",
    "prob_bigram2 = unigram[sentence2[0]]\n",
    "prob_smoothed_bigram2 = smoothed_unigram[sentence2[0]]        \n",
    "for i in range(1,len(sentence2)):\n",
    "    prob_bigram2 *= bigram[((sentence2)[i-1],)][(sentence2)[i]]\n",
    "    \n",
    "    if smoothed_bigram[((sentence2)[i-1],)][(sentence2)[i]] == 0.0:\n",
    "        prob_smoothed_bigram2 *= 1 / (len(unigram)+count_each_tup_N_1[sentence2[i-1]])\n",
    "    else:\n",
    "        prob_smoothed_bigram2 *= smoothed_bigram[((sentence2)[i-1],)][(sentence2)[i]]\n",
    "\n",
    "prob_trigram1 = unigram[sentence1[0]] * bigram[((sentence1)[0],)][(sentence1)[1]]\n",
    "prob_smoothed_trigram1 = smoothed_unigram[sentence1[0]] * smoothed_bigram[((sentence1)[0],)][(sentence1)[1]]\n",
    "# Assuming the second part of prob_smoothed_trigram is not 0\n",
    "for i in range(2,len(sentence1)):\n",
    "    prob_trigram1 *= trigram[(sentence1[i-2],(sentence1)[i-1])][(sentence1)[i]]\n",
    "    \n",
    "    if smoothed_trigram[(sentence1[i-2],(sentence1)[i-1])][(sentence1)[i]] == 0.0:\n",
    "        prob_smoothed_trigram1 *= 1 / (len(unigram)+count_each_tup_2[sentence1[i-2],sentence1[i-1]])\n",
    "    else:\n",
    "        prob_smoothed_trigram1 *= smoothed_trigram[(sentence1[i-2],(sentence1)[i-1])][(sentence1)[i]]\n",
    "        \n",
    "prob_trigram2 = unigram[sentence2[0]] * bigram[((sentence2)[0],)][(sentence2)[1]]\n",
    "prob_smoothed_trigram2 = smoothed_unigram[sentence2[0]] * smoothed_bigram[((sentence2)[0],)][(sentence2)[1]]\n",
    "# Assuming the second part of prob_smoothed_trigram is not 0\n",
    "for i in range(2,len(sentence2)):\n",
    "    prob_trigram2 *= trigram[(sentence2[i-2],(sentence2)[i-1])][(sentence2)[i]]\n",
    "    \n",
    "    if smoothed_trigram[(sentence2[i-2],(sentence2)[i-1])][(sentence2)[i]] == 0.0:\n",
    "        prob_smoothed_trigram2 *= 1 / (len(unigram)+count_each_tup_2[sentence2[i-2],sentence2[i-1]])\n",
    "    else:\n",
    "        prob_smoothed_trigram2 *= smoothed_trigram[(sentence2[i-2],(sentence2)[i-1])][(sentence2)[i]]       \n",
    "        \n",
    "print ('The unigram gives sentence 1 a probability of',prob_unigram1)\n",
    "print ('The unigram gives sentence 2 a probability of',prob_unigram2)\n",
    "print ('The smoothed unigram gives sentence 1 a probability of',prob_smoothed_unigram1)\n",
    "print ('The smoothed unigram gives sentence 2 a probability of',prob_smoothed_unigram2)\n",
    "print ('')\n",
    "print ('The bigram gives sentence 1 a probability of',prob_bigram1)\n",
    "print ('The bigram gives sentence 2 a probability of',prob_bigram2)\n",
    "print ('The smoothed bigram gives sentence 1 a probability of',prob_smoothed_bigram1)\n",
    "print ('The smoothed bigram gives sentence 2 a probability of',prob_smoothed_bigram2)\n",
    "print ('')\n",
    "print ('The trigram gives sentence 1 a probability of',prob_trigram1)\n",
    "print ('The trigram gives sentence 2 a probability of',prob_trigram2)\n",
    "print ('The smoothed trigram gives sentence 1 a probability of',prob_smoothed_trigram1)\n",
    "print ('The smoothed trigram gives sentence 2 a probability of',prob_smoothed_trigram2)\n"
   ]
  },
  {
   "cell_type": "markdown",
   "metadata": {},
   "source": [
    "YOUR ANSWERS HERE"
   ]
  },
  {
   "cell_type": "markdown",
   "metadata": {},
   "source": [
    "## Exercise 2.5 (5 points)\n",
    "\n",
    "The above sentences were taken from the training set, hence they will all have probability greater than 0. The big challenge for our language model are of course with sentence that contain unseen N-grams: if such an N-gram occurs our model immediately assigns the sentence probability zero.\n",
    "\n",
    "The following three senteces are taken from the **test set** availlable in the file **ted-test.txt**. What probabilities do your smoothed and unsmoothed language models asign in this case?\n",
    "\n",
    "    1. Because these robots are really safe .\n",
    "    2. We have sheer nothingness on one side , and we have this vision of a reality that encompasses every \n",
    "       conceivable world at the other extreme : the fullest possible reality , nothingness , the simplest possible \n",
    "       reality ."
   ]
  },
  {
   "cell_type": "code",
   "execution_count": 410,
   "metadata": {},
   "outputs": [
    {
     "name": "stdout",
     "output_type": "stream",
     "text": [
      "The unigram gives sentence 1 a probability of 5.555506744477795e-08\n",
      "The unigram gives sentence 2 a probability of 9.400162341298488e-47\n",
      "The smoothed unigram gives sentence 1 a probability of 5.555506744477795e-08\n",
      "The smoothed unigram gives sentence 2 a probability of 9.400162341298488e-47\n",
      "\n",
      "The bigram gives sentence 1 a probability of 0.0\n",
      "The bigram gives sentence 2 a probability of 0.0\n",
      "The smoothed bigram gives sentence 1 a probability of 4.0865570392619526e-25\n",
      "The smoothed bigram gives sentence 2 a probability of 3.492476815299746e-128\n",
      "\n",
      "The trigram gives sentence 1 a probability of 0.0\n",
      "The trigram gives sentence 2 a probability of 0.0\n",
      "The smoothed trigram gives sentence 1 a probability of 4.1665807709684866e-30\n",
      "The smoothed trigram gives sentence 2 a probability of 4.4559932745249856e-154\n"
     ]
    }
   ],
   "source": [
    "### YOUR CODE HERE ###\n",
    "train_file = \"ted-train.txt\"\n",
    "sentence1 = ['<s>','Because', 'these', 'robots', 'are', 'really', 'safe', '</s>']\n",
    "sentence2 = ['<s>','We', 'have', 'sheer', 'nothingness' ,'on', 'one', 'side', ',', 'and', 'we', 'have' ,\\\n",
    "             'this' ,'vision' ,'of','a' ,'reality', 'that', 'encompasses', 'every', 'conceivable', 'world', 'at', \\\n",
    "             'the', 'other', 'extreme' ,':', 'the', 'fullest','possible', 'reality', ',', 'nothingness',',', \\\n",
    "             'simplest', 'possible', 'reality','</s>']\n",
    "sentence3 = ['<s>','The', 'company', 'was', 'brilliant','</s>' ]\n",
    "\n",
    "#---------------------------------------#\n",
    "# Train here first\n",
    "data, _, _ = read(train_file)\n",
    "bigram,unigram, _, count_each_tup_N_1 = train_for_analysis(data,2,k=0)\n",
    "smoothed_bigram, smoothed_unigram,_,_ = train_for_analysis(data,2,k=1)\n",
    "trigram,_,_,count_each_tup_2 = train_for_analysis(data,3,k=0)\n",
    "smoothed_trigram,_,_,_ = train_for_analysis(data,3,k=1)\n",
    "#---------------------------------------#\n",
    "\n",
    "prob_unigram1 = 1\n",
    "prob_smoothed_unigram1 = 1\n",
    "for i in sentence1:\n",
    "    prob_unigram1 *= unigram[i]\n",
    "    prob_smoothed_unigram1 *= smoothed_unigram[i]\n",
    "\n",
    "prob_unigram2 = 1\n",
    "prob_smoothed_unigram2 = 1\n",
    "for i in sentence2:\n",
    "    prob_unigram2 *= unigram[i]\n",
    "    prob_smoothed_unigram2 *= smoothed_unigram[i]\n",
    "\n",
    "prob_bigram1 = unigram[sentence1[0]]\n",
    "prob_smoothed_bigram1 = smoothed_unigram[sentence1[0]]\n",
    "for i in range(1,len(sentence1)):\n",
    "    prob_bigram1 *= bigram[((sentence1)[i-1],)][(sentence1)[i]]\n",
    "    \n",
    "    if smoothed_bigram[((sentence1)[i-1],)][(sentence1)[i]] == 0.0:\n",
    "        prob_smoothed_bigram1 *= 1 / (len(unigram)+count_each_tup_N_1[sentence1[i-1]])\n",
    "    else:\n",
    "        prob_smoothed_bigram1 *= smoothed_bigram[((sentence1)[i-1],)][(sentence1)[i]]\n",
    "\n",
    "prob_bigram2 = unigram[sentence2[0]]\n",
    "prob_smoothed_bigram2 = smoothed_unigram[sentence2[0]]        \n",
    "for i in range(1,len(sentence2)):\n",
    "    prob_bigram2 *= bigram[((sentence2)[i-1],)][(sentence2)[i]]\n",
    "    \n",
    "    if smoothed_bigram[((sentence2)[i-1],)][(sentence2)[i]] == 0.0:\n",
    "        prob_smoothed_bigram2 *= 1 / (len(unigram)+count_each_tup_N_1[sentence2[i-1]])\n",
    "    else:\n",
    "        prob_smoothed_bigram2 *= smoothed_bigram[((sentence2)[i-1],)][(sentence2)[i]]\n",
    "\n",
    "prob_trigram1 = unigram[sentence1[0]] * bigram[((sentence1)[0],)][(sentence1)[1]]\n",
    "prob_smoothed_trigram1 = smoothed_unigram[sentence1[0]] * smoothed_bigram[((sentence1)[0],)][(sentence1)[1]]\n",
    "# Assuming the second part of prob_smoothed_trigram is not 0\n",
    "for i in range(2,len(sentence1)):\n",
    "    prob_trigram1 *= trigram[(sentence1[i-2],(sentence1)[i-1])][(sentence1)[i]]\n",
    "    \n",
    "    if smoothed_trigram[(sentence1[i-2],(sentence1)[i-1])][(sentence1)[i]] == 0.0:\n",
    "        prob_smoothed_trigram1 *= 1 / (len(unigram)+count_each_tup_2[sentence1[i-2],sentence1[i-1]])\n",
    "    else:\n",
    "        prob_smoothed_trigram1 *= smoothed_trigram[(sentence1[i-2],(sentence1)[i-1])][(sentence1)[i]]\n",
    "        \n",
    "prob_trigram2 = unigram[sentence2[0]] * bigram[((sentence2)[0],)][(sentence2)[1]]\n",
    "prob_smoothed_trigram2 = smoothed_unigram[sentence2[0]] * smoothed_bigram[((sentence2)[0],)][(sentence2)[1]]\n",
    "# Assuming the second part of prob_smoothed_trigram is not 0\n",
    "for i in range(2,len(sentence2)):\n",
    "    prob_trigram2 *= trigram[(sentence2[i-2],(sentence2)[i-1])][(sentence2)[i]]\n",
    "    \n",
    "    if smoothed_trigram[(sentence2[i-2],(sentence2)[i-1])][(sentence2)[i]] == 0.0:\n",
    "        prob_smoothed_trigram2 *= 1 / (len(unigram)+count_each_tup_2[sentence2[i-2],sentence2[i-1]])\n",
    "    else:\n",
    "        prob_smoothed_trigram2 *= smoothed_trigram[(sentence2[i-2],(sentence2)[i-1])][(sentence2)[i]]       \n",
    "        \n",
    "print ('The unigram gives sentence 1 a probability of',prob_unigram1)\n",
    "print ('The unigram gives sentence 2 a probability of',prob_unigram2)\n",
    "print ('The smoothed unigram gives sentence 1 a probability of',prob_smoothed_unigram1)\n",
    "print ('The smoothed unigram gives sentence 2 a probability of',prob_smoothed_unigram2)\n",
    "print ('')\n",
    "print ('The bigram gives sentence 1 a probability of',prob_bigram1)\n",
    "print ('The bigram gives sentence 2 a probability of',prob_bigram2)\n",
    "print ('The smoothed bigram gives sentence 1 a probability of',prob_smoothed_bigram1)\n",
    "print ('The smoothed bigram gives sentence 2 a probability of',prob_smoothed_bigram2)\n",
    "print ('')\n",
    "print ('The trigram gives sentence 1 a probability of',prob_trigram1)\n",
    "print ('The trigram gives sentence 2 a probability of',prob_trigram2)\n",
    "print ('The smoothed trigram gives sentence 1 a probability of',prob_smoothed_trigram1)\n",
    "print ('The smoothed trigram gives sentence 2 a probability of',prob_smoothed_trigram2)"
   ]
  },
  {
   "cell_type": "markdown",
   "metadata": {},
   "source": [
    "YOUR ANSWERS HERE"
   ]
  },
  {
   "cell_type": "markdown",
   "metadata": {},
   "source": [
    "### [Optional]\n",
    "\n",
    "**Optional** What percentage of the sentences in the test set get assigned probability 0 under your smoothed and unsmoothed language models? "
   ]
  },
  {
   "cell_type": "code",
   "execution_count": null,
   "metadata": {
    "collapsed": true
   },
   "outputs": [],
   "source": [
    "### ANSWER HERE ###"
   ]
  },
  {
   "cell_type": "markdown",
   "metadata": {},
   "source": [
    "## Exercise 2.6 (5 points)\n",
    "\n",
    "**Perplexity** is very frequently used **metric** for evaluating probabilistic models such as language models. The perplexity (sometimes called **PP** for short) of a language model on a sentence is the **inverse probability** of the sentence, **normalized** by the number of words:\n",
    "\n",
    "$$PP(w_1 \\dots w_n) = P(w_1\\dots w_n)^{-\\frac{1}{n}}.$$\n",
    "\n",
    "Here we can again approximate $P(w_1 \\dots w_n)$ with N-gram probabilities, as above.\n",
    "Note: $(x_1\\cdots x_n)^{-\\frac{1}{n}}$ is the **geometric mean** of the numbers $x_1,\\dots,x_n$. It is like the (regular) artithmetic mean, but with **products** instead of **sums**. The geometric mean is a more natural choice in the case of *PP* because behind $P(w_1\\dots w_n)$ is a series of $n$ products ([more here](https://en.wikipedia.org/wiki/Geometric_mean)).\n",
    "\n",
    "\n",
    "\n",
    "Compute the perplexity of the training sentences from excercise 2.1. What big difference between the **probabilities** of the sentences and the **perplexities** of the sentences do you notice?"
   ]
  },
  {
   "cell_type": "code",
   "execution_count": null,
   "metadata": {
    "collapsed": true
   },
   "outputs": [],
   "source": [
    "### YOUR CODE HERE ###"
   ]
  },
  {
   "cell_type": "markdown",
   "metadata": {},
   "source": [
    "YOUR ANSWER HERE"
   ]
  },
  {
   "cell_type": "markdown",
   "metadata": {},
   "source": [
    "# That's it!\n",
    "\n",
    "Congratulations, you have made it to the end of the tutorial. Here we will recap the gist of this notebook. \n",
    "\n",
    "**Make sure all your cells can be executed and all your answers are there. Then, read on if you're interested!**\n",
    "\n",
    "-----\n",
    "\n",
    "By now you should have a solid feeling for the problem of **sparsity in language data**; there's just never enough data. For the task of language modelling, we saw that sparsity is a serious challenge. \n",
    "\n",
    "It would be great to be able to model $p(w_n|w_1 \\dots w_{n-1})$ for unlimited $n$: the larger $n$ the better our language model should become at capturing the long-range dependencies between words that characterize actual human sentences, and the more probability our model will asign to such sentences as opposed to sentences that are word-soup. But in the N-gram approach, increasing $n$ will quickly kill all generalizing abilities of the model: the model will start to asign probabilities only to sentences it has seen in the training data.\n",
    "\n",
    "So, where to go from here? Here are three directions that we could head in.\n",
    "\n",
    "### Smoothing\n",
    "\n",
    "We have seen one example of smoothing in this lab: add-k smoothing. This is an easy method, both conceptually and implementation-wise. But the results are not great, and the effects it has on the distributions can be extreme.\n",
    "\n",
    "A much more sophisticated method of smoothing is so-called **Kneser-Ney smoothing**. The method is described in detail in section 4.5 of J&M (3rd edition). This is one of the best performing N-gram smoothing methods, and up to a few years ago a popular implementation of it called [KenLM](https://kheafield.com/code/kenlm/) gave state of the art results.\n",
    "\n",
    "### From words to characters\n",
    "\n",
    "In this lab we have considered language modeling as the task of predicting a **word** $w_n$ based on a history of **words** $w_1\\cdots w_n$. What if instead we let our basic units of modelling be **characters**? The task then becomes to model $p(c_k\\mid c_{k-N-1}\\dots c_{k-1})$ where each $c_i$ is now an ASCII character instead of an entire word.\n",
    "\n",
    "Suddenly sparsity of data is no longer a problem! The set of characters to use is tiny (< 100) compared to even a small-sized vocabulary as today. Have a look at this very illustrative notebook written by Yoav Golberg to see such a method in action: [The unreasonable effectiveness of Character-level Language Models](http://nbviewer.jupyter.org/gist/yoavg/d76121dfde2618422139).\n",
    "\n",
    "(So what is the downside?)\n",
    "\n",
    "\n",
    "### Neural language models\n",
    "\n",
    "The above notebook was actually written as a response to this blog post by Andrej Karpathy: [The Unreasonable Effectiveness of Recurrent Neural Networks](http://karpathy.github.io/2015/05/21/rnn-effectiveness/). Go ahead and read it if you haven't already: it is a superb introduction to the topic of Recurrent Neural Networks.\n",
    "\n",
    "Neural language models solve the problem of data sparsity in a different manner. Instead of estimating the probabilities $p(w_k\\mid w_{k-N-1}\\dots w_{k-1})$ by counting occurences in the data, they use a neural network $f_{\\theta}$ parametrized by parameters $\\theta$ to predict this probability. The parameters $\\theta$ are learned through optimization. \n",
    "\n",
    "The simplest approach goes like this: each word in the history $w_{k-N-1}\\dots w_{k-1}$ is embedded separately giving  vectors $e_{k-N-1}\\dots e_{k-1}$ and then concatenated into one long vectors $[e_{k-N-1};\\dots ;e_{k-1}]$. The network then uses this history vector to predict a probability distribution over words $w$ in the vocabulary $V$:\n",
    "\n",
    "$$p(w \\mid w_{k-N-1}\\dots w_{k-1}) = f_{\\theta}([e_{k-N-1};\\dots;e_{k-1}]).$$\n",
    "\n",
    "(In order to produce legitimate probabilities the final layer of such a network will be for example a $softmax$.)\n",
    "\n",
    "This provides a solution to the sparsity problem by having the network let the individual embeddings of the words in the history interact through its non-linear transforamtion. We are letting the network figure out the smoothing itself!\n",
    "\n",
    "RNNs are a clever extension of this idea, where a hidden state vector $h$ is re-used and updated at each step $k$ in order to store the information of the entire history up to step $k-1$. That is, an RNN actually does away with the N-order approximation; it tries to model the full conditional directly! That means that\n",
    "\n",
    "$$p(w \\mid w_1\\dots w_{k-1}) \\approx RNN_{\\theta}([e_{k-1};h_{k-1}])$$\n",
    "\n",
    "where the hidden state $h_{k-1}$ is a compression of the *entire history* $w_1\\dots w_{k-1}$.\n",
    "\n",
    "Another great place to learn about RNNs, their problems, and solutions to those, is on the blog of [Christopher Olah](http://colah.github.io/posts/2015-08-Understanding-LSTMs/). The project on language modelling will involve learning more about these methods. \n",
    "\n",
    "-----------\n",
    "(And now, it's time to read the classic essay by Eugene Wigner that gave both of the posts their title: [The Unreasonable Effectiveness of Mathematics in the Natural Sciences](http://www.dartmouth.edu/~matc/MathDrama/reading/Wigner.html))"
   ]
  }
 ],
 "metadata": {
  "anaconda-cloud": {},
  "kernelspec": {
   "display_name": "Python 3",
   "language": "python",
   "name": "python3"
  },
  "language_info": {
   "codemirror_mode": {
    "name": "ipython",
    "version": 3
   },
   "file_extension": ".py",
   "mimetype": "text/x-python",
   "name": "python",
   "nbconvert_exporter": "python",
   "pygments_lexer": "ipython3",
   "version": "3.5.4"
  }
 },
 "nbformat": 4,
 "nbformat_minor": 1
}
